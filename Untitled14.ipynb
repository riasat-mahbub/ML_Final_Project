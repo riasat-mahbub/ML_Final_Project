{
 "nbformat": 4,
 "nbformat_minor": 0,
 "metadata": {
  "colab": {
   "provenance": []
  },
  "kernelspec": {
   "name": "python3",
   "language": "python",
   "display_name": "Python 3 (ipykernel)"
  },
  "language_info": {
   "name": "python"
  }
 },
 "cells": [
  {
   "cell_type": "code",
   "execution_count": 27,
   "metadata": {
    "id": "Nz8BNTeuz5G3",
    "ExecuteTime": {
     "end_time": "2023-11-15T20:02:33.802549400Z",
     "start_time": "2023-11-15T20:02:33.772542800Z"
    }
   },
   "outputs": [],
   "source": [
    "import pandas as pd\n",
    "import numpy as np\n",
    "from sklearn.preprocessing import LabelEncoder, LabelBinarizer\n",
    "import math\n",
    "import matplotlib.pyplot as plt\n",
    "from sklearn.model_selection import train_test_split\n",
    "from sklearn.ensemble import RandomForestClassifier"
   ]
  },
  {
   "cell_type": "code",
   "source": [
    "df = pd.read_csv('cost_of_living_us.csv')\n",
    "df"
   ],
   "metadata": {
    "colab": {
     "base_uri": "https://localhost:8080/",
     "height": 617
    },
    "id": "6YmW7OkN0MOg",
    "outputId": "10284667-3c95-4d84-9252-dea500516c2f",
    "ExecuteTime": {
     "end_time": "2023-11-15T20:01:05.884985900Z",
     "start_time": "2023-11-15T20:01:02.888850800Z"
    }
   },
   "execution_count": 2,
   "outputs": [
    {
     "data": {
      "text/plain": "       case_id state  isMetro            areaname          county  \\\n0            1    AL     True  Montgomery, AL MSA  Autauga County   \n1            1    AL     True  Montgomery, AL MSA  Autauga County   \n2            1    AL     True  Montgomery, AL MSA  Autauga County   \n3            1    AL     True  Montgomery, AL MSA  Autauga County   \n4            1    AL     True  Montgomery, AL MSA  Autauga County   \n...        ...   ...      ...                 ...             ...   \n31425     3171    WY    False   Weston County, WY   Weston County   \n31426     3171    WY    False   Weston County, WY   Weston County   \n31427     3171    WY    False   Weston County, WY   Weston County   \n31428     3171    WY    False   Weston County, WY   Weston County   \n31429     3171    WY    False   Weston County, WY   Weston County   \n\n      family_member_count  housing_cost    food_cost  transportation_cost  \\\n0                    1p0c    8505.72876   3454.91712          10829.16876   \n1                    1p1c   12067.50240   5091.70788          11588.19288   \n2                    1p2c   12067.50240   7460.20308          12361.77720   \n3                    1p3c   15257.15040   9952.23924          13452.18600   \n4                    1p4c   15257.15040  12182.21400          13744.59840   \n...                   ...           ...          ...                  ...   \n31425                2p0c    8316.00000   6010.65672          14790.36240   \n31426                2p1c   10956.00000   7480.86696          15611.58600   \n31427                2p2c   10956.00000   9474.35748          16163.90280   \n31428                2p3c   13632.00000  11567.46972          17118.38400   \n31429                2p4c   13632.00000  14155.81080          17184.34920   \n\n       healthcare_cost  other_necessities_cost  childcare_cost        taxes  \\\n0           5737.47984              4333.81344          0.0000   6392.94504   \n1           8659.55640              6217.45896       6147.8298   7422.07836   \n2          11581.63260              7075.65816      15824.6940   9769.56228   \n3          14503.70760              9134.35620      18802.1892  13101.70320   \n4          17425.78560              9942.36396      18802.1892  13469.21880   \n...                ...                     ...             ...          ...   \n31425      14466.55920              5191.11288          0.0000   6640.77324   \n31426      18086.24160              6680.40384       8675.8770   7933.21068   \n31427      21705.92280              7402.72416      21207.6984   9502.56228   \n31428      25325.60400              9130.76148      25063.6440  11456.36724   \n31429      28945.28640             10068.61968      25063.6440  11484.86724   \n\n        total_cost  median_family_income  \n0       39254.0532          73010.414062  \n1       57194.3256          73010.414062  \n2       76141.0308          73010.414062  \n3       94203.5328          73010.414062  \n4      100823.5200          73010.414062  \n...            ...                   ...  \n31425   55415.4672          80177.656250  \n31426   75424.1832          80177.656250  \n31427   96413.1684          80177.656250  \n31428  113294.2260          80177.656250  \n31429  120534.5760          80177.656250  \n\n[31430 rows x 15 columns]",
      "text/html": "<div>\n<style scoped>\n    .dataframe tbody tr th:only-of-type {\n        vertical-align: middle;\n    }\n\n    .dataframe tbody tr th {\n        vertical-align: top;\n    }\n\n    .dataframe thead th {\n        text-align: right;\n    }\n</style>\n<table border=\"1\" class=\"dataframe\">\n  <thead>\n    <tr style=\"text-align: right;\">\n      <th></th>\n      <th>case_id</th>\n      <th>state</th>\n      <th>isMetro</th>\n      <th>areaname</th>\n      <th>county</th>\n      <th>family_member_count</th>\n      <th>housing_cost</th>\n      <th>food_cost</th>\n      <th>transportation_cost</th>\n      <th>healthcare_cost</th>\n      <th>other_necessities_cost</th>\n      <th>childcare_cost</th>\n      <th>taxes</th>\n      <th>total_cost</th>\n      <th>median_family_income</th>\n    </tr>\n  </thead>\n  <tbody>\n    <tr>\n      <th>0</th>\n      <td>1</td>\n      <td>AL</td>\n      <td>True</td>\n      <td>Montgomery, AL MSA</td>\n      <td>Autauga County</td>\n      <td>1p0c</td>\n      <td>8505.72876</td>\n      <td>3454.91712</td>\n      <td>10829.16876</td>\n      <td>5737.47984</td>\n      <td>4333.81344</td>\n      <td>0.0000</td>\n      <td>6392.94504</td>\n      <td>39254.0532</td>\n      <td>73010.414062</td>\n    </tr>\n    <tr>\n      <th>1</th>\n      <td>1</td>\n      <td>AL</td>\n      <td>True</td>\n      <td>Montgomery, AL MSA</td>\n      <td>Autauga County</td>\n      <td>1p1c</td>\n      <td>12067.50240</td>\n      <td>5091.70788</td>\n      <td>11588.19288</td>\n      <td>8659.55640</td>\n      <td>6217.45896</td>\n      <td>6147.8298</td>\n      <td>7422.07836</td>\n      <td>57194.3256</td>\n      <td>73010.414062</td>\n    </tr>\n    <tr>\n      <th>2</th>\n      <td>1</td>\n      <td>AL</td>\n      <td>True</td>\n      <td>Montgomery, AL MSA</td>\n      <td>Autauga County</td>\n      <td>1p2c</td>\n      <td>12067.50240</td>\n      <td>7460.20308</td>\n      <td>12361.77720</td>\n      <td>11581.63260</td>\n      <td>7075.65816</td>\n      <td>15824.6940</td>\n      <td>9769.56228</td>\n      <td>76141.0308</td>\n      <td>73010.414062</td>\n    </tr>\n    <tr>\n      <th>3</th>\n      <td>1</td>\n      <td>AL</td>\n      <td>True</td>\n      <td>Montgomery, AL MSA</td>\n      <td>Autauga County</td>\n      <td>1p3c</td>\n      <td>15257.15040</td>\n      <td>9952.23924</td>\n      <td>13452.18600</td>\n      <td>14503.70760</td>\n      <td>9134.35620</td>\n      <td>18802.1892</td>\n      <td>13101.70320</td>\n      <td>94203.5328</td>\n      <td>73010.414062</td>\n    </tr>\n    <tr>\n      <th>4</th>\n      <td>1</td>\n      <td>AL</td>\n      <td>True</td>\n      <td>Montgomery, AL MSA</td>\n      <td>Autauga County</td>\n      <td>1p4c</td>\n      <td>15257.15040</td>\n      <td>12182.21400</td>\n      <td>13744.59840</td>\n      <td>17425.78560</td>\n      <td>9942.36396</td>\n      <td>18802.1892</td>\n      <td>13469.21880</td>\n      <td>100823.5200</td>\n      <td>73010.414062</td>\n    </tr>\n    <tr>\n      <th>...</th>\n      <td>...</td>\n      <td>...</td>\n      <td>...</td>\n      <td>...</td>\n      <td>...</td>\n      <td>...</td>\n      <td>...</td>\n      <td>...</td>\n      <td>...</td>\n      <td>...</td>\n      <td>...</td>\n      <td>...</td>\n      <td>...</td>\n      <td>...</td>\n      <td>...</td>\n    </tr>\n    <tr>\n      <th>31425</th>\n      <td>3171</td>\n      <td>WY</td>\n      <td>False</td>\n      <td>Weston County, WY</td>\n      <td>Weston County</td>\n      <td>2p0c</td>\n      <td>8316.00000</td>\n      <td>6010.65672</td>\n      <td>14790.36240</td>\n      <td>14466.55920</td>\n      <td>5191.11288</td>\n      <td>0.0000</td>\n      <td>6640.77324</td>\n      <td>55415.4672</td>\n      <td>80177.656250</td>\n    </tr>\n    <tr>\n      <th>31426</th>\n      <td>3171</td>\n      <td>WY</td>\n      <td>False</td>\n      <td>Weston County, WY</td>\n      <td>Weston County</td>\n      <td>2p1c</td>\n      <td>10956.00000</td>\n      <td>7480.86696</td>\n      <td>15611.58600</td>\n      <td>18086.24160</td>\n      <td>6680.40384</td>\n      <td>8675.8770</td>\n      <td>7933.21068</td>\n      <td>75424.1832</td>\n      <td>80177.656250</td>\n    </tr>\n    <tr>\n      <th>31427</th>\n      <td>3171</td>\n      <td>WY</td>\n      <td>False</td>\n      <td>Weston County, WY</td>\n      <td>Weston County</td>\n      <td>2p2c</td>\n      <td>10956.00000</td>\n      <td>9474.35748</td>\n      <td>16163.90280</td>\n      <td>21705.92280</td>\n      <td>7402.72416</td>\n      <td>21207.6984</td>\n      <td>9502.56228</td>\n      <td>96413.1684</td>\n      <td>80177.656250</td>\n    </tr>\n    <tr>\n      <th>31428</th>\n      <td>3171</td>\n      <td>WY</td>\n      <td>False</td>\n      <td>Weston County, WY</td>\n      <td>Weston County</td>\n      <td>2p3c</td>\n      <td>13632.00000</td>\n      <td>11567.46972</td>\n      <td>17118.38400</td>\n      <td>25325.60400</td>\n      <td>9130.76148</td>\n      <td>25063.6440</td>\n      <td>11456.36724</td>\n      <td>113294.2260</td>\n      <td>80177.656250</td>\n    </tr>\n    <tr>\n      <th>31429</th>\n      <td>3171</td>\n      <td>WY</td>\n      <td>False</td>\n      <td>Weston County, WY</td>\n      <td>Weston County</td>\n      <td>2p4c</td>\n      <td>13632.00000</td>\n      <td>14155.81080</td>\n      <td>17184.34920</td>\n      <td>28945.28640</td>\n      <td>10068.61968</td>\n      <td>25063.6440</td>\n      <td>11484.86724</td>\n      <td>120534.5760</td>\n      <td>80177.656250</td>\n    </tr>\n  </tbody>\n</table>\n<p>31430 rows × 15 columns</p>\n</div>"
     },
     "execution_count": 2,
     "metadata": {},
     "output_type": "execute_result"
    }
   ]
  },
  {
   "cell_type": "code",
   "source": [
    "df['adult_count'] = df['family_member_count'].str[0]\n",
    "df['child_count'] = df['family_member_count'].str[2]\n",
    "df"
   ],
   "metadata": {
    "colab": {
     "base_uri": "https://localhost:8080/",
     "height": 617
    },
    "id": "oCteuqA7FW7r",
    "outputId": "ae525626-9899-4468-9997-033f84ce2411",
    "ExecuteTime": {
     "end_time": "2023-11-15T20:01:05.891499200Z",
     "start_time": "2023-11-15T20:01:03.119616400Z"
    }
   },
   "execution_count": 3,
   "outputs": [
    {
     "data": {
      "text/plain": "       case_id state  isMetro            areaname          county  \\\n0            1    AL     True  Montgomery, AL MSA  Autauga County   \n1            1    AL     True  Montgomery, AL MSA  Autauga County   \n2            1    AL     True  Montgomery, AL MSA  Autauga County   \n3            1    AL     True  Montgomery, AL MSA  Autauga County   \n4            1    AL     True  Montgomery, AL MSA  Autauga County   \n...        ...   ...      ...                 ...             ...   \n31425     3171    WY    False   Weston County, WY   Weston County   \n31426     3171    WY    False   Weston County, WY   Weston County   \n31427     3171    WY    False   Weston County, WY   Weston County   \n31428     3171    WY    False   Weston County, WY   Weston County   \n31429     3171    WY    False   Weston County, WY   Weston County   \n\n      family_member_count  housing_cost    food_cost  transportation_cost  \\\n0                    1p0c    8505.72876   3454.91712          10829.16876   \n1                    1p1c   12067.50240   5091.70788          11588.19288   \n2                    1p2c   12067.50240   7460.20308          12361.77720   \n3                    1p3c   15257.15040   9952.23924          13452.18600   \n4                    1p4c   15257.15040  12182.21400          13744.59840   \n...                   ...           ...          ...                  ...   \n31425                2p0c    8316.00000   6010.65672          14790.36240   \n31426                2p1c   10956.00000   7480.86696          15611.58600   \n31427                2p2c   10956.00000   9474.35748          16163.90280   \n31428                2p3c   13632.00000  11567.46972          17118.38400   \n31429                2p4c   13632.00000  14155.81080          17184.34920   \n\n       healthcare_cost  other_necessities_cost  childcare_cost        taxes  \\\n0           5737.47984              4333.81344          0.0000   6392.94504   \n1           8659.55640              6217.45896       6147.8298   7422.07836   \n2          11581.63260              7075.65816      15824.6940   9769.56228   \n3          14503.70760              9134.35620      18802.1892  13101.70320   \n4          17425.78560              9942.36396      18802.1892  13469.21880   \n...                ...                     ...             ...          ...   \n31425      14466.55920              5191.11288          0.0000   6640.77324   \n31426      18086.24160              6680.40384       8675.8770   7933.21068   \n31427      21705.92280              7402.72416      21207.6984   9502.56228   \n31428      25325.60400              9130.76148      25063.6440  11456.36724   \n31429      28945.28640             10068.61968      25063.6440  11484.86724   \n\n        total_cost  median_family_income adult_count child_count  \n0       39254.0532          73010.414062           1           0  \n1       57194.3256          73010.414062           1           1  \n2       76141.0308          73010.414062           1           2  \n3       94203.5328          73010.414062           1           3  \n4      100823.5200          73010.414062           1           4  \n...            ...                   ...         ...         ...  \n31425   55415.4672          80177.656250           2           0  \n31426   75424.1832          80177.656250           2           1  \n31427   96413.1684          80177.656250           2           2  \n31428  113294.2260          80177.656250           2           3  \n31429  120534.5760          80177.656250           2           4  \n\n[31430 rows x 17 columns]",
      "text/html": "<div>\n<style scoped>\n    .dataframe tbody tr th:only-of-type {\n        vertical-align: middle;\n    }\n\n    .dataframe tbody tr th {\n        vertical-align: top;\n    }\n\n    .dataframe thead th {\n        text-align: right;\n    }\n</style>\n<table border=\"1\" class=\"dataframe\">\n  <thead>\n    <tr style=\"text-align: right;\">\n      <th></th>\n      <th>case_id</th>\n      <th>state</th>\n      <th>isMetro</th>\n      <th>areaname</th>\n      <th>county</th>\n      <th>family_member_count</th>\n      <th>housing_cost</th>\n      <th>food_cost</th>\n      <th>transportation_cost</th>\n      <th>healthcare_cost</th>\n      <th>other_necessities_cost</th>\n      <th>childcare_cost</th>\n      <th>taxes</th>\n      <th>total_cost</th>\n      <th>median_family_income</th>\n      <th>adult_count</th>\n      <th>child_count</th>\n    </tr>\n  </thead>\n  <tbody>\n    <tr>\n      <th>0</th>\n      <td>1</td>\n      <td>AL</td>\n      <td>True</td>\n      <td>Montgomery, AL MSA</td>\n      <td>Autauga County</td>\n      <td>1p0c</td>\n      <td>8505.72876</td>\n      <td>3454.91712</td>\n      <td>10829.16876</td>\n      <td>5737.47984</td>\n      <td>4333.81344</td>\n      <td>0.0000</td>\n      <td>6392.94504</td>\n      <td>39254.0532</td>\n      <td>73010.414062</td>\n      <td>1</td>\n      <td>0</td>\n    </tr>\n    <tr>\n      <th>1</th>\n      <td>1</td>\n      <td>AL</td>\n      <td>True</td>\n      <td>Montgomery, AL MSA</td>\n      <td>Autauga County</td>\n      <td>1p1c</td>\n      <td>12067.50240</td>\n      <td>5091.70788</td>\n      <td>11588.19288</td>\n      <td>8659.55640</td>\n      <td>6217.45896</td>\n      <td>6147.8298</td>\n      <td>7422.07836</td>\n      <td>57194.3256</td>\n      <td>73010.414062</td>\n      <td>1</td>\n      <td>1</td>\n    </tr>\n    <tr>\n      <th>2</th>\n      <td>1</td>\n      <td>AL</td>\n      <td>True</td>\n      <td>Montgomery, AL MSA</td>\n      <td>Autauga County</td>\n      <td>1p2c</td>\n      <td>12067.50240</td>\n      <td>7460.20308</td>\n      <td>12361.77720</td>\n      <td>11581.63260</td>\n      <td>7075.65816</td>\n      <td>15824.6940</td>\n      <td>9769.56228</td>\n      <td>76141.0308</td>\n      <td>73010.414062</td>\n      <td>1</td>\n      <td>2</td>\n    </tr>\n    <tr>\n      <th>3</th>\n      <td>1</td>\n      <td>AL</td>\n      <td>True</td>\n      <td>Montgomery, AL MSA</td>\n      <td>Autauga County</td>\n      <td>1p3c</td>\n      <td>15257.15040</td>\n      <td>9952.23924</td>\n      <td>13452.18600</td>\n      <td>14503.70760</td>\n      <td>9134.35620</td>\n      <td>18802.1892</td>\n      <td>13101.70320</td>\n      <td>94203.5328</td>\n      <td>73010.414062</td>\n      <td>1</td>\n      <td>3</td>\n    </tr>\n    <tr>\n      <th>4</th>\n      <td>1</td>\n      <td>AL</td>\n      <td>True</td>\n      <td>Montgomery, AL MSA</td>\n      <td>Autauga County</td>\n      <td>1p4c</td>\n      <td>15257.15040</td>\n      <td>12182.21400</td>\n      <td>13744.59840</td>\n      <td>17425.78560</td>\n      <td>9942.36396</td>\n      <td>18802.1892</td>\n      <td>13469.21880</td>\n      <td>100823.5200</td>\n      <td>73010.414062</td>\n      <td>1</td>\n      <td>4</td>\n    </tr>\n    <tr>\n      <th>...</th>\n      <td>...</td>\n      <td>...</td>\n      <td>...</td>\n      <td>...</td>\n      <td>...</td>\n      <td>...</td>\n      <td>...</td>\n      <td>...</td>\n      <td>...</td>\n      <td>...</td>\n      <td>...</td>\n      <td>...</td>\n      <td>...</td>\n      <td>...</td>\n      <td>...</td>\n      <td>...</td>\n      <td>...</td>\n    </tr>\n    <tr>\n      <th>31425</th>\n      <td>3171</td>\n      <td>WY</td>\n      <td>False</td>\n      <td>Weston County, WY</td>\n      <td>Weston County</td>\n      <td>2p0c</td>\n      <td>8316.00000</td>\n      <td>6010.65672</td>\n      <td>14790.36240</td>\n      <td>14466.55920</td>\n      <td>5191.11288</td>\n      <td>0.0000</td>\n      <td>6640.77324</td>\n      <td>55415.4672</td>\n      <td>80177.656250</td>\n      <td>2</td>\n      <td>0</td>\n    </tr>\n    <tr>\n      <th>31426</th>\n      <td>3171</td>\n      <td>WY</td>\n      <td>False</td>\n      <td>Weston County, WY</td>\n      <td>Weston County</td>\n      <td>2p1c</td>\n      <td>10956.00000</td>\n      <td>7480.86696</td>\n      <td>15611.58600</td>\n      <td>18086.24160</td>\n      <td>6680.40384</td>\n      <td>8675.8770</td>\n      <td>7933.21068</td>\n      <td>75424.1832</td>\n      <td>80177.656250</td>\n      <td>2</td>\n      <td>1</td>\n    </tr>\n    <tr>\n      <th>31427</th>\n      <td>3171</td>\n      <td>WY</td>\n      <td>False</td>\n      <td>Weston County, WY</td>\n      <td>Weston County</td>\n      <td>2p2c</td>\n      <td>10956.00000</td>\n      <td>9474.35748</td>\n      <td>16163.90280</td>\n      <td>21705.92280</td>\n      <td>7402.72416</td>\n      <td>21207.6984</td>\n      <td>9502.56228</td>\n      <td>96413.1684</td>\n      <td>80177.656250</td>\n      <td>2</td>\n      <td>2</td>\n    </tr>\n    <tr>\n      <th>31428</th>\n      <td>3171</td>\n      <td>WY</td>\n      <td>False</td>\n      <td>Weston County, WY</td>\n      <td>Weston County</td>\n      <td>2p3c</td>\n      <td>13632.00000</td>\n      <td>11567.46972</td>\n      <td>17118.38400</td>\n      <td>25325.60400</td>\n      <td>9130.76148</td>\n      <td>25063.6440</td>\n      <td>11456.36724</td>\n      <td>113294.2260</td>\n      <td>80177.656250</td>\n      <td>2</td>\n      <td>3</td>\n    </tr>\n    <tr>\n      <th>31429</th>\n      <td>3171</td>\n      <td>WY</td>\n      <td>False</td>\n      <td>Weston County, WY</td>\n      <td>Weston County</td>\n      <td>2p4c</td>\n      <td>13632.00000</td>\n      <td>14155.81080</td>\n      <td>17184.34920</td>\n      <td>28945.28640</td>\n      <td>10068.61968</td>\n      <td>25063.6440</td>\n      <td>11484.86724</td>\n      <td>120534.5760</td>\n      <td>80177.656250</td>\n      <td>2</td>\n      <td>4</td>\n    </tr>\n  </tbody>\n</table>\n<p>31430 rows × 17 columns</p>\n</div>"
     },
     "execution_count": 3,
     "metadata": {},
     "output_type": "execute_result"
    }
   ]
  },
  {
   "cell_type": "code",
   "source": [
    "df = df.drop(['case_id','family_member_count', 'areaname', 'housing_cost'\t, 'food_cost'\t,'transportation_cost'\t,'healthcare_cost'\t,'other_necessities_cost',\t'childcare_cost',\t'taxes'], axis=1)\n",
    "df"
   ],
   "metadata": {
    "colab": {
     "base_uri": "https://localhost:8080/",
     "height": 423
    },
    "id": "Y94FJ2i-0dei",
    "outputId": "532f9244-8b76-4b8b-af40-3901b032b24e",
    "ExecuteTime": {
     "end_time": "2023-11-15T20:01:05.896499600Z",
     "start_time": "2023-11-15T20:01:03.155752300Z"
    }
   },
   "execution_count": 4,
   "outputs": [
    {
     "data": {
      "text/plain": "      state  isMetro          county   total_cost  median_family_income  \\\n0        AL     True  Autauga County   39254.0532          73010.414062   \n1        AL     True  Autauga County   57194.3256          73010.414062   \n2        AL     True  Autauga County   76141.0308          73010.414062   \n3        AL     True  Autauga County   94203.5328          73010.414062   \n4        AL     True  Autauga County  100823.5200          73010.414062   \n...     ...      ...             ...          ...                   ...   \n31425    WY    False   Weston County   55415.4672          80177.656250   \n31426    WY    False   Weston County   75424.1832          80177.656250   \n31427    WY    False   Weston County   96413.1684          80177.656250   \n31428    WY    False   Weston County  113294.2260          80177.656250   \n31429    WY    False   Weston County  120534.5760          80177.656250   \n\n      adult_count child_count  \n0               1           0  \n1               1           1  \n2               1           2  \n3               1           3  \n4               1           4  \n...           ...         ...  \n31425           2           0  \n31426           2           1  \n31427           2           2  \n31428           2           3  \n31429           2           4  \n\n[31430 rows x 7 columns]",
      "text/html": "<div>\n<style scoped>\n    .dataframe tbody tr th:only-of-type {\n        vertical-align: middle;\n    }\n\n    .dataframe tbody tr th {\n        vertical-align: top;\n    }\n\n    .dataframe thead th {\n        text-align: right;\n    }\n</style>\n<table border=\"1\" class=\"dataframe\">\n  <thead>\n    <tr style=\"text-align: right;\">\n      <th></th>\n      <th>state</th>\n      <th>isMetro</th>\n      <th>county</th>\n      <th>total_cost</th>\n      <th>median_family_income</th>\n      <th>adult_count</th>\n      <th>child_count</th>\n    </tr>\n  </thead>\n  <tbody>\n    <tr>\n      <th>0</th>\n      <td>AL</td>\n      <td>True</td>\n      <td>Autauga County</td>\n      <td>39254.0532</td>\n      <td>73010.414062</td>\n      <td>1</td>\n      <td>0</td>\n    </tr>\n    <tr>\n      <th>1</th>\n      <td>AL</td>\n      <td>True</td>\n      <td>Autauga County</td>\n      <td>57194.3256</td>\n      <td>73010.414062</td>\n      <td>1</td>\n      <td>1</td>\n    </tr>\n    <tr>\n      <th>2</th>\n      <td>AL</td>\n      <td>True</td>\n      <td>Autauga County</td>\n      <td>76141.0308</td>\n      <td>73010.414062</td>\n      <td>1</td>\n      <td>2</td>\n    </tr>\n    <tr>\n      <th>3</th>\n      <td>AL</td>\n      <td>True</td>\n      <td>Autauga County</td>\n      <td>94203.5328</td>\n      <td>73010.414062</td>\n      <td>1</td>\n      <td>3</td>\n    </tr>\n    <tr>\n      <th>4</th>\n      <td>AL</td>\n      <td>True</td>\n      <td>Autauga County</td>\n      <td>100823.5200</td>\n      <td>73010.414062</td>\n      <td>1</td>\n      <td>4</td>\n    </tr>\n    <tr>\n      <th>...</th>\n      <td>...</td>\n      <td>...</td>\n      <td>...</td>\n      <td>...</td>\n      <td>...</td>\n      <td>...</td>\n      <td>...</td>\n    </tr>\n    <tr>\n      <th>31425</th>\n      <td>WY</td>\n      <td>False</td>\n      <td>Weston County</td>\n      <td>55415.4672</td>\n      <td>80177.656250</td>\n      <td>2</td>\n      <td>0</td>\n    </tr>\n    <tr>\n      <th>31426</th>\n      <td>WY</td>\n      <td>False</td>\n      <td>Weston County</td>\n      <td>75424.1832</td>\n      <td>80177.656250</td>\n      <td>2</td>\n      <td>1</td>\n    </tr>\n    <tr>\n      <th>31427</th>\n      <td>WY</td>\n      <td>False</td>\n      <td>Weston County</td>\n      <td>96413.1684</td>\n      <td>80177.656250</td>\n      <td>2</td>\n      <td>2</td>\n    </tr>\n    <tr>\n      <th>31428</th>\n      <td>WY</td>\n      <td>False</td>\n      <td>Weston County</td>\n      <td>113294.2260</td>\n      <td>80177.656250</td>\n      <td>2</td>\n      <td>3</td>\n    </tr>\n    <tr>\n      <th>31429</th>\n      <td>WY</td>\n      <td>False</td>\n      <td>Weston County</td>\n      <td>120534.5760</td>\n      <td>80177.656250</td>\n      <td>2</td>\n      <td>4</td>\n    </tr>\n  </tbody>\n</table>\n<p>31430 rows × 7 columns</p>\n</div>"
     },
     "execution_count": 4,
     "metadata": {},
     "output_type": "execute_result"
    }
   ]
  },
  {
   "cell_type": "code",
   "source": [
    "df = df.rename(columns={'total_cost':'cost', 'median_family_income':'income'})\n",
    "df"
   ],
   "metadata": {
    "colab": {
     "base_uri": "https://localhost:8080/",
     "height": 423
    },
    "id": "epg0I5UHGlrZ",
    "outputId": "895ed9f1-4fbd-4346-852d-430764663c56",
    "ExecuteTime": {
     "end_time": "2023-11-15T20:01:05.899500100Z",
     "start_time": "2023-11-15T20:01:03.174691700Z"
    }
   },
   "execution_count": 5,
   "outputs": [
    {
     "data": {
      "text/plain": "      state  isMetro          county         cost        income adult_count  \\\n0        AL     True  Autauga County   39254.0532  73010.414062           1   \n1        AL     True  Autauga County   57194.3256  73010.414062           1   \n2        AL     True  Autauga County   76141.0308  73010.414062           1   \n3        AL     True  Autauga County   94203.5328  73010.414062           1   \n4        AL     True  Autauga County  100823.5200  73010.414062           1   \n...     ...      ...             ...          ...           ...         ...   \n31425    WY    False   Weston County   55415.4672  80177.656250           2   \n31426    WY    False   Weston County   75424.1832  80177.656250           2   \n31427    WY    False   Weston County   96413.1684  80177.656250           2   \n31428    WY    False   Weston County  113294.2260  80177.656250           2   \n31429    WY    False   Weston County  120534.5760  80177.656250           2   \n\n      child_count  \n0               0  \n1               1  \n2               2  \n3               3  \n4               4  \n...           ...  \n31425           0  \n31426           1  \n31427           2  \n31428           3  \n31429           4  \n\n[31430 rows x 7 columns]",
      "text/html": "<div>\n<style scoped>\n    .dataframe tbody tr th:only-of-type {\n        vertical-align: middle;\n    }\n\n    .dataframe tbody tr th {\n        vertical-align: top;\n    }\n\n    .dataframe thead th {\n        text-align: right;\n    }\n</style>\n<table border=\"1\" class=\"dataframe\">\n  <thead>\n    <tr style=\"text-align: right;\">\n      <th></th>\n      <th>state</th>\n      <th>isMetro</th>\n      <th>county</th>\n      <th>cost</th>\n      <th>income</th>\n      <th>adult_count</th>\n      <th>child_count</th>\n    </tr>\n  </thead>\n  <tbody>\n    <tr>\n      <th>0</th>\n      <td>AL</td>\n      <td>True</td>\n      <td>Autauga County</td>\n      <td>39254.0532</td>\n      <td>73010.414062</td>\n      <td>1</td>\n      <td>0</td>\n    </tr>\n    <tr>\n      <th>1</th>\n      <td>AL</td>\n      <td>True</td>\n      <td>Autauga County</td>\n      <td>57194.3256</td>\n      <td>73010.414062</td>\n      <td>1</td>\n      <td>1</td>\n    </tr>\n    <tr>\n      <th>2</th>\n      <td>AL</td>\n      <td>True</td>\n      <td>Autauga County</td>\n      <td>76141.0308</td>\n      <td>73010.414062</td>\n      <td>1</td>\n      <td>2</td>\n    </tr>\n    <tr>\n      <th>3</th>\n      <td>AL</td>\n      <td>True</td>\n      <td>Autauga County</td>\n      <td>94203.5328</td>\n      <td>73010.414062</td>\n      <td>1</td>\n      <td>3</td>\n    </tr>\n    <tr>\n      <th>4</th>\n      <td>AL</td>\n      <td>True</td>\n      <td>Autauga County</td>\n      <td>100823.5200</td>\n      <td>73010.414062</td>\n      <td>1</td>\n      <td>4</td>\n    </tr>\n    <tr>\n      <th>...</th>\n      <td>...</td>\n      <td>...</td>\n      <td>...</td>\n      <td>...</td>\n      <td>...</td>\n      <td>...</td>\n      <td>...</td>\n    </tr>\n    <tr>\n      <th>31425</th>\n      <td>WY</td>\n      <td>False</td>\n      <td>Weston County</td>\n      <td>55415.4672</td>\n      <td>80177.656250</td>\n      <td>2</td>\n      <td>0</td>\n    </tr>\n    <tr>\n      <th>31426</th>\n      <td>WY</td>\n      <td>False</td>\n      <td>Weston County</td>\n      <td>75424.1832</td>\n      <td>80177.656250</td>\n      <td>2</td>\n      <td>1</td>\n    </tr>\n    <tr>\n      <th>31427</th>\n      <td>WY</td>\n      <td>False</td>\n      <td>Weston County</td>\n      <td>96413.1684</td>\n      <td>80177.656250</td>\n      <td>2</td>\n      <td>2</td>\n    </tr>\n    <tr>\n      <th>31428</th>\n      <td>WY</td>\n      <td>False</td>\n      <td>Weston County</td>\n      <td>113294.2260</td>\n      <td>80177.656250</td>\n      <td>2</td>\n      <td>3</td>\n    </tr>\n    <tr>\n      <th>31429</th>\n      <td>WY</td>\n      <td>False</td>\n      <td>Weston County</td>\n      <td>120534.5760</td>\n      <td>80177.656250</td>\n      <td>2</td>\n      <td>4</td>\n    </tr>\n  </tbody>\n</table>\n<p>31430 rows × 7 columns</p>\n</div>"
     },
     "execution_count": 5,
     "metadata": {},
     "output_type": "execute_result"
    }
   ]
  },
  {
   "cell_type": "code",
   "source": [
    "df_income = pd.read_csv('kaggle_income.csv', encoding='latin-1')\n",
    "df_rent = pd.read_csv('kaggle_gross_rent.csv',  encoding='latin-1')\n",
    "df_income"
   ],
   "metadata": {
    "colab": {
     "base_uri": "https://localhost:8080/",
     "height": 653
    },
    "id": "BgBl5gYXY1ky",
    "outputId": "71cf40c6-08bd-4d10-917b-aa5a9873beb1",
    "ExecuteTime": {
     "end_time": "2023-11-15T20:01:05.904497900Z",
     "start_time": "2023-11-15T20:01:03.192209100Z"
    }
   },
   "execution_count": 6,
   "outputs": [
    {
     "name": "stderr",
     "output_type": "stream",
     "text": [
      "C:\\Users\\riasa\\AppData\\Local\\Temp\\ipykernel_73696\\1796097989.py:2: DtypeWarning: Columns (10) have mixed types. Specify dtype option on import or set low_memory=False.\n",
      "  df_rent = pd.read_csv('kaggle_gross_rent.csv',  encoding='latin-1')\n"
     ]
    },
    {
     "data": {
      "text/plain": "            id  State_Code   State_Name State_ab              County  \\\n0      1011000           1      Alabama       AL       Mobile County   \n1      1011010           1      Alabama       AL      Barbour County   \n2      1011020           1      Alabama       AL       Shelby County   \n3      1011030           1      Alabama       AL       Mobile County   \n4      1011040           1      Alabama       AL       Mobile County   \n...        ...         ...          ...      ...                 ...   \n32521   720296          72  Puerto Rico       PR  Adjuntas Municipio   \n32522  7202966          72  Puerto Rico       PR  Adjuntas Municipio   \n32523  7202976          72  Puerto Rico       PR  Adjuntas Municipio   \n32524  7202986          72  Puerto Rico       PR  Adjuntas Municipio   \n32525  7202996          72  Puerto Rico       PR  Adjuntas Municipio   \n\n                 City            Place   Type Primary  Zip_Code Area_Code  \\\n0           Chickasaw   Chickasaw city   City   place     36611       251   \n1          Louisville        Clio city   City   place     36048       334   \n2          Columbiana  Columbiana city   City   place     35051       205   \n3             Satsuma      Creola city   City   place     36572       251   \n4      Dauphin Island   Dauphin Island   Town   place     36528       251   \n...               ...              ...    ...     ...       ...       ...   \n32521        Guaynabo         Adjuntas  Track   Track       970       787   \n32522          Aguada         Adjuntas  Track   Track       602       787   \n32523          Aguada         Adjuntas  Track   Track       602       787   \n32524          Aguada         Adjuntas  Track   Track       602       787   \n32525       Aguadilla         Adjuntas  Track   Track       603       787   \n\n          ALand     AWater        Lat        Lon   Mean  Median  Stdev  \\\n0      10894952     909156  30.771450 -88.079697  38773   30506  33101   \n1      26070325      23254  31.708516 -85.611039  37725   19528  43789   \n2      44835274     261034  33.191452 -86.615618  54606   31930  57348   \n3      36878729    2374530  30.874343 -88.009442  63919   52814  47707   \n4      16204185  413605152  30.250913 -88.171268  77948   67225  54270   \n...         ...        ...        ...        ...    ...     ...    ...   \n32521    589417       1691  18.397925 -66.130633  30649   13729  37977   \n32522   1801613     795887  18.385424 -67.203310  15520    9923  15541   \n32523  11031227          0  18.356565 -67.180686  41933   34054  31539   \n32524         0   33597561  18.412041 -67.213413      0       0      0   \n32525   6476604    2717115  18.478094 -67.160453  28049   20229  33333   \n\n             sum_w  \n0      1638.260513  \n1       258.017685  \n2       926.031000  \n3       378.114619  \n4       282.320328  \n...            ...  \n32521  1321.278082  \n32522   238.813450  \n32523   313.551070  \n32524     0.000000  \n32525   512.884803  \n\n[32526 rows x 19 columns]",
      "text/html": "<div>\n<style scoped>\n    .dataframe tbody tr th:only-of-type {\n        vertical-align: middle;\n    }\n\n    .dataframe tbody tr th {\n        vertical-align: top;\n    }\n\n    .dataframe thead th {\n        text-align: right;\n    }\n</style>\n<table border=\"1\" class=\"dataframe\">\n  <thead>\n    <tr style=\"text-align: right;\">\n      <th></th>\n      <th>id</th>\n      <th>State_Code</th>\n      <th>State_Name</th>\n      <th>State_ab</th>\n      <th>County</th>\n      <th>City</th>\n      <th>Place</th>\n      <th>Type</th>\n      <th>Primary</th>\n      <th>Zip_Code</th>\n      <th>Area_Code</th>\n      <th>ALand</th>\n      <th>AWater</th>\n      <th>Lat</th>\n      <th>Lon</th>\n      <th>Mean</th>\n      <th>Median</th>\n      <th>Stdev</th>\n      <th>sum_w</th>\n    </tr>\n  </thead>\n  <tbody>\n    <tr>\n      <th>0</th>\n      <td>1011000</td>\n      <td>1</td>\n      <td>Alabama</td>\n      <td>AL</td>\n      <td>Mobile County</td>\n      <td>Chickasaw</td>\n      <td>Chickasaw city</td>\n      <td>City</td>\n      <td>place</td>\n      <td>36611</td>\n      <td>251</td>\n      <td>10894952</td>\n      <td>909156</td>\n      <td>30.771450</td>\n      <td>-88.079697</td>\n      <td>38773</td>\n      <td>30506</td>\n      <td>33101</td>\n      <td>1638.260513</td>\n    </tr>\n    <tr>\n      <th>1</th>\n      <td>1011010</td>\n      <td>1</td>\n      <td>Alabama</td>\n      <td>AL</td>\n      <td>Barbour County</td>\n      <td>Louisville</td>\n      <td>Clio city</td>\n      <td>City</td>\n      <td>place</td>\n      <td>36048</td>\n      <td>334</td>\n      <td>26070325</td>\n      <td>23254</td>\n      <td>31.708516</td>\n      <td>-85.611039</td>\n      <td>37725</td>\n      <td>19528</td>\n      <td>43789</td>\n      <td>258.017685</td>\n    </tr>\n    <tr>\n      <th>2</th>\n      <td>1011020</td>\n      <td>1</td>\n      <td>Alabama</td>\n      <td>AL</td>\n      <td>Shelby County</td>\n      <td>Columbiana</td>\n      <td>Columbiana city</td>\n      <td>City</td>\n      <td>place</td>\n      <td>35051</td>\n      <td>205</td>\n      <td>44835274</td>\n      <td>261034</td>\n      <td>33.191452</td>\n      <td>-86.615618</td>\n      <td>54606</td>\n      <td>31930</td>\n      <td>57348</td>\n      <td>926.031000</td>\n    </tr>\n    <tr>\n      <th>3</th>\n      <td>1011030</td>\n      <td>1</td>\n      <td>Alabama</td>\n      <td>AL</td>\n      <td>Mobile County</td>\n      <td>Satsuma</td>\n      <td>Creola city</td>\n      <td>City</td>\n      <td>place</td>\n      <td>36572</td>\n      <td>251</td>\n      <td>36878729</td>\n      <td>2374530</td>\n      <td>30.874343</td>\n      <td>-88.009442</td>\n      <td>63919</td>\n      <td>52814</td>\n      <td>47707</td>\n      <td>378.114619</td>\n    </tr>\n    <tr>\n      <th>4</th>\n      <td>1011040</td>\n      <td>1</td>\n      <td>Alabama</td>\n      <td>AL</td>\n      <td>Mobile County</td>\n      <td>Dauphin Island</td>\n      <td>Dauphin Island</td>\n      <td>Town</td>\n      <td>place</td>\n      <td>36528</td>\n      <td>251</td>\n      <td>16204185</td>\n      <td>413605152</td>\n      <td>30.250913</td>\n      <td>-88.171268</td>\n      <td>77948</td>\n      <td>67225</td>\n      <td>54270</td>\n      <td>282.320328</td>\n    </tr>\n    <tr>\n      <th>...</th>\n      <td>...</td>\n      <td>...</td>\n      <td>...</td>\n      <td>...</td>\n      <td>...</td>\n      <td>...</td>\n      <td>...</td>\n      <td>...</td>\n      <td>...</td>\n      <td>...</td>\n      <td>...</td>\n      <td>...</td>\n      <td>...</td>\n      <td>...</td>\n      <td>...</td>\n      <td>...</td>\n      <td>...</td>\n      <td>...</td>\n      <td>...</td>\n    </tr>\n    <tr>\n      <th>32521</th>\n      <td>720296</td>\n      <td>72</td>\n      <td>Puerto Rico</td>\n      <td>PR</td>\n      <td>Adjuntas Municipio</td>\n      <td>Guaynabo</td>\n      <td>Adjuntas</td>\n      <td>Track</td>\n      <td>Track</td>\n      <td>970</td>\n      <td>787</td>\n      <td>589417</td>\n      <td>1691</td>\n      <td>18.397925</td>\n      <td>-66.130633</td>\n      <td>30649</td>\n      <td>13729</td>\n      <td>37977</td>\n      <td>1321.278082</td>\n    </tr>\n    <tr>\n      <th>32522</th>\n      <td>7202966</td>\n      <td>72</td>\n      <td>Puerto Rico</td>\n      <td>PR</td>\n      <td>Adjuntas Municipio</td>\n      <td>Aguada</td>\n      <td>Adjuntas</td>\n      <td>Track</td>\n      <td>Track</td>\n      <td>602</td>\n      <td>787</td>\n      <td>1801613</td>\n      <td>795887</td>\n      <td>18.385424</td>\n      <td>-67.203310</td>\n      <td>15520</td>\n      <td>9923</td>\n      <td>15541</td>\n      <td>238.813450</td>\n    </tr>\n    <tr>\n      <th>32523</th>\n      <td>7202976</td>\n      <td>72</td>\n      <td>Puerto Rico</td>\n      <td>PR</td>\n      <td>Adjuntas Municipio</td>\n      <td>Aguada</td>\n      <td>Adjuntas</td>\n      <td>Track</td>\n      <td>Track</td>\n      <td>602</td>\n      <td>787</td>\n      <td>11031227</td>\n      <td>0</td>\n      <td>18.356565</td>\n      <td>-67.180686</td>\n      <td>41933</td>\n      <td>34054</td>\n      <td>31539</td>\n      <td>313.551070</td>\n    </tr>\n    <tr>\n      <th>32524</th>\n      <td>7202986</td>\n      <td>72</td>\n      <td>Puerto Rico</td>\n      <td>PR</td>\n      <td>Adjuntas Municipio</td>\n      <td>Aguada</td>\n      <td>Adjuntas</td>\n      <td>Track</td>\n      <td>Track</td>\n      <td>602</td>\n      <td>787</td>\n      <td>0</td>\n      <td>33597561</td>\n      <td>18.412041</td>\n      <td>-67.213413</td>\n      <td>0</td>\n      <td>0</td>\n      <td>0</td>\n      <td>0.000000</td>\n    </tr>\n    <tr>\n      <th>32525</th>\n      <td>7202996</td>\n      <td>72</td>\n      <td>Puerto Rico</td>\n      <td>PR</td>\n      <td>Adjuntas Municipio</td>\n      <td>Aguadilla</td>\n      <td>Adjuntas</td>\n      <td>Track</td>\n      <td>Track</td>\n      <td>603</td>\n      <td>787</td>\n      <td>6476604</td>\n      <td>2717115</td>\n      <td>18.478094</td>\n      <td>-67.160453</td>\n      <td>28049</td>\n      <td>20229</td>\n      <td>33333</td>\n      <td>512.884803</td>\n    </tr>\n  </tbody>\n</table>\n<p>32526 rows × 19 columns</p>\n</div>"
     },
     "execution_count": 6,
     "metadata": {},
     "output_type": "execute_result"
    }
   ]
  },
  {
   "cell_type": "code",
   "source": [
    "df_merge = pd.merge(df_income, df_rent, on=['State_Code','State_Name','State_ab', 'County', 'City', 'Primary', 'Place', 'Type', 'Zip_Code', 'Area_Code', 'ALand', 'AWater', 'Lat', 'Lon'])\n",
    "df_merge"
   ],
   "metadata": {
    "colab": {
     "base_uri": "https://localhost:8080/",
     "height": 617
    },
    "id": "Sjyrv_yVaSp0",
    "outputId": "19599252-4f0a-42ec-e33a-5c6a57bdd765",
    "ExecuteTime": {
     "end_time": "2023-11-15T20:01:05.907499500Z",
     "start_time": "2023-11-15T20:01:03.536226300Z"
    }
   },
   "execution_count": 7,
   "outputs": [
    {
     "data": {
      "text/plain": "          id_x  State_Code   State_Name State_ab              County  \\\n0     41021002          41       Oregon       OR        Baker County   \n1     41021012          41       Oregon       OR        Baker County   \n2     41021022          41       Oregon       OR        Baker County   \n3     41021032          41       Oregon       OR        Baker County   \n4     41021042          41       Oregon       OR        Baker County   \n...        ...         ...          ...      ...                 ...   \n8789   7202946          72  Puerto Rico       PR  Adjuntas Municipio   \n8790    720296          72  Puerto Rico       PR  Adjuntas Municipio   \n8791   7202966          72  Puerto Rico       PR  Adjuntas Municipio   \n8792   7202976          72  Puerto Rico       PR  Adjuntas Municipio   \n8793   7202996          72  Puerto Rico       PR  Adjuntas Municipio   \n\n             City            Place   Type Primary  Zip_Code  ...         Lon  \\\n0       Clackamas  Baker City city  Track   Track     97015  ... -122.512645   \n1        Portland  Baker City city  Track   Track     97266  ... -122.574608   \n2     Oregon City  Baker City city  Track   Track     97045  ... -122.545333   \n3     Oregon City  Baker City city  Track   Track     97045  ... -122.600615   \n4     Oregon City  Baker City city  Track   Track     97045  ... -122.614660   \n...           ...              ...    ...     ...       ...  ...         ...   \n8789     Adjuntas         Adjuntas  Track   Track       601  ...  -66.737830   \n8790     Guaynabo         Adjuntas  Track   Track       970  ...  -66.130633   \n8791       Aguada         Adjuntas  Track   Track       602  ...  -67.203310   \n8792       Aguada         Adjuntas  Track   Track       602  ...  -67.180686   \n8793    Aguadilla         Adjuntas  Track   Track       603  ...  -67.160453   \n\n      Mean_x  Median_x  Stdev_x        sum_w      id_y  Mean_y  Median_y  \\\n0      83022    300000    45473   469.496687  41021002    1122      1056   \n1      33175     29242    22129   726.410780  41021012     884       886   \n2      86611     76960    52699   165.854955  41021022     918       845   \n3      57749     55095    45765   596.935074  41021032    1083       930   \n4      84220     78294    50384   754.486303  41021042    1359      1296   \n...      ...       ...      ...          ...       ...     ...       ...   \n8789   19807      9378    21654   524.345149   7202946     343       364   \n8790   30649     13729    37977  1321.278082    720296     386       274   \n8791   15520      9923    15541   238.813450   7202966     443       471   \n8792   41933     34054    31539   313.551070   7202976     701       396   \n8793   28049     20229    33333   512.884803   7202996     494       483   \n\n      Stdev_y  Samples  \n0         242      350  \n1         268      826  \n2         163       26  \n3         580      655  \n4         395      212  \n...       ...      ...  \n8789       87      141  \n8790      328      930  \n8791       99       71  \n8792      388       45  \n8793      147       80  \n\n[8794 rows x 24 columns]",
      "text/html": "<div>\n<style scoped>\n    .dataframe tbody tr th:only-of-type {\n        vertical-align: middle;\n    }\n\n    .dataframe tbody tr th {\n        vertical-align: top;\n    }\n\n    .dataframe thead th {\n        text-align: right;\n    }\n</style>\n<table border=\"1\" class=\"dataframe\">\n  <thead>\n    <tr style=\"text-align: right;\">\n      <th></th>\n      <th>id_x</th>\n      <th>State_Code</th>\n      <th>State_Name</th>\n      <th>State_ab</th>\n      <th>County</th>\n      <th>City</th>\n      <th>Place</th>\n      <th>Type</th>\n      <th>Primary</th>\n      <th>Zip_Code</th>\n      <th>...</th>\n      <th>Lon</th>\n      <th>Mean_x</th>\n      <th>Median_x</th>\n      <th>Stdev_x</th>\n      <th>sum_w</th>\n      <th>id_y</th>\n      <th>Mean_y</th>\n      <th>Median_y</th>\n      <th>Stdev_y</th>\n      <th>Samples</th>\n    </tr>\n  </thead>\n  <tbody>\n    <tr>\n      <th>0</th>\n      <td>41021002</td>\n      <td>41</td>\n      <td>Oregon</td>\n      <td>OR</td>\n      <td>Baker County</td>\n      <td>Clackamas</td>\n      <td>Baker City city</td>\n      <td>Track</td>\n      <td>Track</td>\n      <td>97015</td>\n      <td>...</td>\n      <td>-122.512645</td>\n      <td>83022</td>\n      <td>300000</td>\n      <td>45473</td>\n      <td>469.496687</td>\n      <td>41021002</td>\n      <td>1122</td>\n      <td>1056</td>\n      <td>242</td>\n      <td>350</td>\n    </tr>\n    <tr>\n      <th>1</th>\n      <td>41021012</td>\n      <td>41</td>\n      <td>Oregon</td>\n      <td>OR</td>\n      <td>Baker County</td>\n      <td>Portland</td>\n      <td>Baker City city</td>\n      <td>Track</td>\n      <td>Track</td>\n      <td>97266</td>\n      <td>...</td>\n      <td>-122.574608</td>\n      <td>33175</td>\n      <td>29242</td>\n      <td>22129</td>\n      <td>726.410780</td>\n      <td>41021012</td>\n      <td>884</td>\n      <td>886</td>\n      <td>268</td>\n      <td>826</td>\n    </tr>\n    <tr>\n      <th>2</th>\n      <td>41021022</td>\n      <td>41</td>\n      <td>Oregon</td>\n      <td>OR</td>\n      <td>Baker County</td>\n      <td>Oregon City</td>\n      <td>Baker City city</td>\n      <td>Track</td>\n      <td>Track</td>\n      <td>97045</td>\n      <td>...</td>\n      <td>-122.545333</td>\n      <td>86611</td>\n      <td>76960</td>\n      <td>52699</td>\n      <td>165.854955</td>\n      <td>41021022</td>\n      <td>918</td>\n      <td>845</td>\n      <td>163</td>\n      <td>26</td>\n    </tr>\n    <tr>\n      <th>3</th>\n      <td>41021032</td>\n      <td>41</td>\n      <td>Oregon</td>\n      <td>OR</td>\n      <td>Baker County</td>\n      <td>Oregon City</td>\n      <td>Baker City city</td>\n      <td>Track</td>\n      <td>Track</td>\n      <td>97045</td>\n      <td>...</td>\n      <td>-122.600615</td>\n      <td>57749</td>\n      <td>55095</td>\n      <td>45765</td>\n      <td>596.935074</td>\n      <td>41021032</td>\n      <td>1083</td>\n      <td>930</td>\n      <td>580</td>\n      <td>655</td>\n    </tr>\n    <tr>\n      <th>4</th>\n      <td>41021042</td>\n      <td>41</td>\n      <td>Oregon</td>\n      <td>OR</td>\n      <td>Baker County</td>\n      <td>Oregon City</td>\n      <td>Baker City city</td>\n      <td>Track</td>\n      <td>Track</td>\n      <td>97045</td>\n      <td>...</td>\n      <td>-122.614660</td>\n      <td>84220</td>\n      <td>78294</td>\n      <td>50384</td>\n      <td>754.486303</td>\n      <td>41021042</td>\n      <td>1359</td>\n      <td>1296</td>\n      <td>395</td>\n      <td>212</td>\n    </tr>\n    <tr>\n      <th>...</th>\n      <td>...</td>\n      <td>...</td>\n      <td>...</td>\n      <td>...</td>\n      <td>...</td>\n      <td>...</td>\n      <td>...</td>\n      <td>...</td>\n      <td>...</td>\n      <td>...</td>\n      <td>...</td>\n      <td>...</td>\n      <td>...</td>\n      <td>...</td>\n      <td>...</td>\n      <td>...</td>\n      <td>...</td>\n      <td>...</td>\n      <td>...</td>\n      <td>...</td>\n      <td>...</td>\n    </tr>\n    <tr>\n      <th>8789</th>\n      <td>7202946</td>\n      <td>72</td>\n      <td>Puerto Rico</td>\n      <td>PR</td>\n      <td>Adjuntas Municipio</td>\n      <td>Adjuntas</td>\n      <td>Adjuntas</td>\n      <td>Track</td>\n      <td>Track</td>\n      <td>601</td>\n      <td>...</td>\n      <td>-66.737830</td>\n      <td>19807</td>\n      <td>9378</td>\n      <td>21654</td>\n      <td>524.345149</td>\n      <td>7202946</td>\n      <td>343</td>\n      <td>364</td>\n      <td>87</td>\n      <td>141</td>\n    </tr>\n    <tr>\n      <th>8790</th>\n      <td>720296</td>\n      <td>72</td>\n      <td>Puerto Rico</td>\n      <td>PR</td>\n      <td>Adjuntas Municipio</td>\n      <td>Guaynabo</td>\n      <td>Adjuntas</td>\n      <td>Track</td>\n      <td>Track</td>\n      <td>970</td>\n      <td>...</td>\n      <td>-66.130633</td>\n      <td>30649</td>\n      <td>13729</td>\n      <td>37977</td>\n      <td>1321.278082</td>\n      <td>720296</td>\n      <td>386</td>\n      <td>274</td>\n      <td>328</td>\n      <td>930</td>\n    </tr>\n    <tr>\n      <th>8791</th>\n      <td>7202966</td>\n      <td>72</td>\n      <td>Puerto Rico</td>\n      <td>PR</td>\n      <td>Adjuntas Municipio</td>\n      <td>Aguada</td>\n      <td>Adjuntas</td>\n      <td>Track</td>\n      <td>Track</td>\n      <td>602</td>\n      <td>...</td>\n      <td>-67.203310</td>\n      <td>15520</td>\n      <td>9923</td>\n      <td>15541</td>\n      <td>238.813450</td>\n      <td>7202966</td>\n      <td>443</td>\n      <td>471</td>\n      <td>99</td>\n      <td>71</td>\n    </tr>\n    <tr>\n      <th>8792</th>\n      <td>7202976</td>\n      <td>72</td>\n      <td>Puerto Rico</td>\n      <td>PR</td>\n      <td>Adjuntas Municipio</td>\n      <td>Aguada</td>\n      <td>Adjuntas</td>\n      <td>Track</td>\n      <td>Track</td>\n      <td>602</td>\n      <td>...</td>\n      <td>-67.180686</td>\n      <td>41933</td>\n      <td>34054</td>\n      <td>31539</td>\n      <td>313.551070</td>\n      <td>7202976</td>\n      <td>701</td>\n      <td>396</td>\n      <td>388</td>\n      <td>45</td>\n    </tr>\n    <tr>\n      <th>8793</th>\n      <td>7202996</td>\n      <td>72</td>\n      <td>Puerto Rico</td>\n      <td>PR</td>\n      <td>Adjuntas Municipio</td>\n      <td>Aguadilla</td>\n      <td>Adjuntas</td>\n      <td>Track</td>\n      <td>Track</td>\n      <td>603</td>\n      <td>...</td>\n      <td>-67.160453</td>\n      <td>28049</td>\n      <td>20229</td>\n      <td>33333</td>\n      <td>512.884803</td>\n      <td>7202996</td>\n      <td>494</td>\n      <td>483</td>\n      <td>147</td>\n      <td>80</td>\n    </tr>\n  </tbody>\n</table>\n<p>8794 rows × 24 columns</p>\n</div>"
     },
     "execution_count": 7,
     "metadata": {},
     "output_type": "execute_result"
    }
   ]
  },
  {
   "cell_type": "code",
   "source": [
    "df_merge['cost'] = df_merge['Samples'] * df_merge['Mean_y']\n",
    "df_merge = df_merge.rename(columns={'sum_w': 'Income'})\n",
    "\n",
    "df_merge"
   ],
   "metadata": {
    "colab": {
     "base_uri": "https://localhost:8080/",
     "height": 617
    },
    "id": "DuVLpfesb8CH",
    "outputId": "ca00fabc-1c55-4337-96b7-802e1cf5e630",
    "ExecuteTime": {
     "end_time": "2023-11-15T20:01:05.910500900Z",
     "start_time": "2023-11-15T20:01:03.662912800Z"
    }
   },
   "execution_count": 8,
   "outputs": [
    {
     "data": {
      "text/plain": "          id_x  State_Code   State_Name State_ab              County  \\\n0     41021002          41       Oregon       OR        Baker County   \n1     41021012          41       Oregon       OR        Baker County   \n2     41021022          41       Oregon       OR        Baker County   \n3     41021032          41       Oregon       OR        Baker County   \n4     41021042          41       Oregon       OR        Baker County   \n...        ...         ...          ...      ...                 ...   \n8789   7202946          72  Puerto Rico       PR  Adjuntas Municipio   \n8790    720296          72  Puerto Rico       PR  Adjuntas Municipio   \n8791   7202966          72  Puerto Rico       PR  Adjuntas Municipio   \n8792   7202976          72  Puerto Rico       PR  Adjuntas Municipio   \n8793   7202996          72  Puerto Rico       PR  Adjuntas Municipio   \n\n             City            Place   Type Primary  Zip_Code  ... Mean_x  \\\n0       Clackamas  Baker City city  Track   Track     97015  ...  83022   \n1        Portland  Baker City city  Track   Track     97266  ...  33175   \n2     Oregon City  Baker City city  Track   Track     97045  ...  86611   \n3     Oregon City  Baker City city  Track   Track     97045  ...  57749   \n4     Oregon City  Baker City city  Track   Track     97045  ...  84220   \n...           ...              ...    ...     ...       ...  ...    ...   \n8789     Adjuntas         Adjuntas  Track   Track       601  ...  19807   \n8790     Guaynabo         Adjuntas  Track   Track       970  ...  30649   \n8791       Aguada         Adjuntas  Track   Track       602  ...  15520   \n8792       Aguada         Adjuntas  Track   Track       602  ...  41933   \n8793    Aguadilla         Adjuntas  Track   Track       603  ...  28049   \n\n      Median_x  Stdev_x       Income      id_y  Mean_y  Median_y  Stdev_y  \\\n0       300000    45473   469.496687  41021002    1122      1056      242   \n1        29242    22129   726.410780  41021012     884       886      268   \n2        76960    52699   165.854955  41021022     918       845      163   \n3        55095    45765   596.935074  41021032    1083       930      580   \n4        78294    50384   754.486303  41021042    1359      1296      395   \n...        ...      ...          ...       ...     ...       ...      ...   \n8789      9378    21654   524.345149   7202946     343       364       87   \n8790     13729    37977  1321.278082    720296     386       274      328   \n8791      9923    15541   238.813450   7202966     443       471       99   \n8792     34054    31539   313.551070   7202976     701       396      388   \n8793     20229    33333   512.884803   7202996     494       483      147   \n\n      Samples    cost  \n0         350  392700  \n1         826  730184  \n2          26   23868  \n3         655  709365  \n4         212  288108  \n...       ...     ...  \n8789      141   48363  \n8790      930  358980  \n8791       71   31453  \n8792       45   31545  \n8793       80   39520  \n\n[8794 rows x 25 columns]",
      "text/html": "<div>\n<style scoped>\n    .dataframe tbody tr th:only-of-type {\n        vertical-align: middle;\n    }\n\n    .dataframe tbody tr th {\n        vertical-align: top;\n    }\n\n    .dataframe thead th {\n        text-align: right;\n    }\n</style>\n<table border=\"1\" class=\"dataframe\">\n  <thead>\n    <tr style=\"text-align: right;\">\n      <th></th>\n      <th>id_x</th>\n      <th>State_Code</th>\n      <th>State_Name</th>\n      <th>State_ab</th>\n      <th>County</th>\n      <th>City</th>\n      <th>Place</th>\n      <th>Type</th>\n      <th>Primary</th>\n      <th>Zip_Code</th>\n      <th>...</th>\n      <th>Mean_x</th>\n      <th>Median_x</th>\n      <th>Stdev_x</th>\n      <th>Income</th>\n      <th>id_y</th>\n      <th>Mean_y</th>\n      <th>Median_y</th>\n      <th>Stdev_y</th>\n      <th>Samples</th>\n      <th>cost</th>\n    </tr>\n  </thead>\n  <tbody>\n    <tr>\n      <th>0</th>\n      <td>41021002</td>\n      <td>41</td>\n      <td>Oregon</td>\n      <td>OR</td>\n      <td>Baker County</td>\n      <td>Clackamas</td>\n      <td>Baker City city</td>\n      <td>Track</td>\n      <td>Track</td>\n      <td>97015</td>\n      <td>...</td>\n      <td>83022</td>\n      <td>300000</td>\n      <td>45473</td>\n      <td>469.496687</td>\n      <td>41021002</td>\n      <td>1122</td>\n      <td>1056</td>\n      <td>242</td>\n      <td>350</td>\n      <td>392700</td>\n    </tr>\n    <tr>\n      <th>1</th>\n      <td>41021012</td>\n      <td>41</td>\n      <td>Oregon</td>\n      <td>OR</td>\n      <td>Baker County</td>\n      <td>Portland</td>\n      <td>Baker City city</td>\n      <td>Track</td>\n      <td>Track</td>\n      <td>97266</td>\n      <td>...</td>\n      <td>33175</td>\n      <td>29242</td>\n      <td>22129</td>\n      <td>726.410780</td>\n      <td>41021012</td>\n      <td>884</td>\n      <td>886</td>\n      <td>268</td>\n      <td>826</td>\n      <td>730184</td>\n    </tr>\n    <tr>\n      <th>2</th>\n      <td>41021022</td>\n      <td>41</td>\n      <td>Oregon</td>\n      <td>OR</td>\n      <td>Baker County</td>\n      <td>Oregon City</td>\n      <td>Baker City city</td>\n      <td>Track</td>\n      <td>Track</td>\n      <td>97045</td>\n      <td>...</td>\n      <td>86611</td>\n      <td>76960</td>\n      <td>52699</td>\n      <td>165.854955</td>\n      <td>41021022</td>\n      <td>918</td>\n      <td>845</td>\n      <td>163</td>\n      <td>26</td>\n      <td>23868</td>\n    </tr>\n    <tr>\n      <th>3</th>\n      <td>41021032</td>\n      <td>41</td>\n      <td>Oregon</td>\n      <td>OR</td>\n      <td>Baker County</td>\n      <td>Oregon City</td>\n      <td>Baker City city</td>\n      <td>Track</td>\n      <td>Track</td>\n      <td>97045</td>\n      <td>...</td>\n      <td>57749</td>\n      <td>55095</td>\n      <td>45765</td>\n      <td>596.935074</td>\n      <td>41021032</td>\n      <td>1083</td>\n      <td>930</td>\n      <td>580</td>\n      <td>655</td>\n      <td>709365</td>\n    </tr>\n    <tr>\n      <th>4</th>\n      <td>41021042</td>\n      <td>41</td>\n      <td>Oregon</td>\n      <td>OR</td>\n      <td>Baker County</td>\n      <td>Oregon City</td>\n      <td>Baker City city</td>\n      <td>Track</td>\n      <td>Track</td>\n      <td>97045</td>\n      <td>...</td>\n      <td>84220</td>\n      <td>78294</td>\n      <td>50384</td>\n      <td>754.486303</td>\n      <td>41021042</td>\n      <td>1359</td>\n      <td>1296</td>\n      <td>395</td>\n      <td>212</td>\n      <td>288108</td>\n    </tr>\n    <tr>\n      <th>...</th>\n      <td>...</td>\n      <td>...</td>\n      <td>...</td>\n      <td>...</td>\n      <td>...</td>\n      <td>...</td>\n      <td>...</td>\n      <td>...</td>\n      <td>...</td>\n      <td>...</td>\n      <td>...</td>\n      <td>...</td>\n      <td>...</td>\n      <td>...</td>\n      <td>...</td>\n      <td>...</td>\n      <td>...</td>\n      <td>...</td>\n      <td>...</td>\n      <td>...</td>\n      <td>...</td>\n    </tr>\n    <tr>\n      <th>8789</th>\n      <td>7202946</td>\n      <td>72</td>\n      <td>Puerto Rico</td>\n      <td>PR</td>\n      <td>Adjuntas Municipio</td>\n      <td>Adjuntas</td>\n      <td>Adjuntas</td>\n      <td>Track</td>\n      <td>Track</td>\n      <td>601</td>\n      <td>...</td>\n      <td>19807</td>\n      <td>9378</td>\n      <td>21654</td>\n      <td>524.345149</td>\n      <td>7202946</td>\n      <td>343</td>\n      <td>364</td>\n      <td>87</td>\n      <td>141</td>\n      <td>48363</td>\n    </tr>\n    <tr>\n      <th>8790</th>\n      <td>720296</td>\n      <td>72</td>\n      <td>Puerto Rico</td>\n      <td>PR</td>\n      <td>Adjuntas Municipio</td>\n      <td>Guaynabo</td>\n      <td>Adjuntas</td>\n      <td>Track</td>\n      <td>Track</td>\n      <td>970</td>\n      <td>...</td>\n      <td>30649</td>\n      <td>13729</td>\n      <td>37977</td>\n      <td>1321.278082</td>\n      <td>720296</td>\n      <td>386</td>\n      <td>274</td>\n      <td>328</td>\n      <td>930</td>\n      <td>358980</td>\n    </tr>\n    <tr>\n      <th>8791</th>\n      <td>7202966</td>\n      <td>72</td>\n      <td>Puerto Rico</td>\n      <td>PR</td>\n      <td>Adjuntas Municipio</td>\n      <td>Aguada</td>\n      <td>Adjuntas</td>\n      <td>Track</td>\n      <td>Track</td>\n      <td>602</td>\n      <td>...</td>\n      <td>15520</td>\n      <td>9923</td>\n      <td>15541</td>\n      <td>238.813450</td>\n      <td>7202966</td>\n      <td>443</td>\n      <td>471</td>\n      <td>99</td>\n      <td>71</td>\n      <td>31453</td>\n    </tr>\n    <tr>\n      <th>8792</th>\n      <td>7202976</td>\n      <td>72</td>\n      <td>Puerto Rico</td>\n      <td>PR</td>\n      <td>Adjuntas Municipio</td>\n      <td>Aguada</td>\n      <td>Adjuntas</td>\n      <td>Track</td>\n      <td>Track</td>\n      <td>602</td>\n      <td>...</td>\n      <td>41933</td>\n      <td>34054</td>\n      <td>31539</td>\n      <td>313.551070</td>\n      <td>7202976</td>\n      <td>701</td>\n      <td>396</td>\n      <td>388</td>\n      <td>45</td>\n      <td>31545</td>\n    </tr>\n    <tr>\n      <th>8793</th>\n      <td>7202996</td>\n      <td>72</td>\n      <td>Puerto Rico</td>\n      <td>PR</td>\n      <td>Adjuntas Municipio</td>\n      <td>Aguadilla</td>\n      <td>Adjuntas</td>\n      <td>Track</td>\n      <td>Track</td>\n      <td>603</td>\n      <td>...</td>\n      <td>28049</td>\n      <td>20229</td>\n      <td>33333</td>\n      <td>512.884803</td>\n      <td>7202996</td>\n      <td>494</td>\n      <td>483</td>\n      <td>147</td>\n      <td>80</td>\n      <td>39520</td>\n    </tr>\n  </tbody>\n</table>\n<p>8794 rows × 25 columns</p>\n</div>"
     },
     "execution_count": 8,
     "metadata": {},
     "output_type": "execute_result"
    }
   ]
  },
  {
   "cell_type": "code",
   "source": [
    "df_merge = df_merge.rename(columns={'sum_w': 'Income'})\n",
    "df_merge = df_merge.drop(columns=['Mean_x', 'Mean_y', 'Median_x', 'Median_y', 'Stdev_x', 'Stdev_y', 'Samples', 'id_x', 'id_y'])\n",
    "df_merge"
   ],
   "metadata": {
    "colab": {
     "base_uri": "https://localhost:8080/",
     "height": 617
    },
    "id": "I8Wap9IbeR7J",
    "outputId": "865c9f1c-2e05-4b8e-aa2a-d340f96aa2d9",
    "ExecuteTime": {
     "end_time": "2023-11-15T20:01:05.912497300Z",
     "start_time": "2023-11-15T20:01:03.686217800Z"
    }
   },
   "execution_count": 9,
   "outputs": [
    {
     "data": {
      "text/plain": "      State_Code   State_Name State_ab              County         City  \\\n0             41       Oregon       OR        Baker County    Clackamas   \n1             41       Oregon       OR        Baker County     Portland   \n2             41       Oregon       OR        Baker County  Oregon City   \n3             41       Oregon       OR        Baker County  Oregon City   \n4             41       Oregon       OR        Baker County  Oregon City   \n...          ...          ...      ...                 ...          ...   \n8789          72  Puerto Rico       PR  Adjuntas Municipio     Adjuntas   \n8790          72  Puerto Rico       PR  Adjuntas Municipio     Guaynabo   \n8791          72  Puerto Rico       PR  Adjuntas Municipio       Aguada   \n8792          72  Puerto Rico       PR  Adjuntas Municipio       Aguada   \n8793          72  Puerto Rico       PR  Adjuntas Municipio    Aguadilla   \n\n                Place   Type Primary  Zip_Code Area_Code     ALand   AWater  \\\n0     Baker City city  Track   Track     97015       503   3706252        0   \n1     Baker City city  Track   Track     97266       503   2034574        0   \n2     Baker City city  Track   Track     97045       503  18885484   810773   \n3     Baker City city  Track   Track     97045       503   5646730   155949   \n4     Baker City city  Track   Track     97045       503   5345121        0   \n...               ...    ...     ...       ...       ...       ...      ...   \n8789         Adjuntas  Track   Track       601       787  44833906    90659   \n8790         Adjuntas  Track   Track       970       787    589417     1691   \n8791         Adjuntas  Track   Track       602       787   1801613   795887   \n8792         Adjuntas  Track   Track       602       787  11031227        0   \n8793         Adjuntas  Track   Track       603       787   6476604  2717115   \n\n            Lat         Lon       Income    cost  \n0     45.418880 -122.512645   469.496687  392700  \n1     45.445405 -122.574608   726.410780  730184  \n2     45.384743 -122.545333   165.854955   23868  \n3     45.345002 -122.600615   596.935074  709365  \n4     45.321189 -122.614660   754.486303  288108  \n...         ...         ...          ...     ...  \n8789  18.204166  -66.737830   524.345149   48363  \n8790  18.397925  -66.130633  1321.278082  358980  \n8791  18.385424  -67.203310   238.813450   31453  \n8792  18.356565  -67.180686   313.551070   31545  \n8793  18.478094  -67.160453   512.884803   39520  \n\n[8794 rows x 16 columns]",
      "text/html": "<div>\n<style scoped>\n    .dataframe tbody tr th:only-of-type {\n        vertical-align: middle;\n    }\n\n    .dataframe tbody tr th {\n        vertical-align: top;\n    }\n\n    .dataframe thead th {\n        text-align: right;\n    }\n</style>\n<table border=\"1\" class=\"dataframe\">\n  <thead>\n    <tr style=\"text-align: right;\">\n      <th></th>\n      <th>State_Code</th>\n      <th>State_Name</th>\n      <th>State_ab</th>\n      <th>County</th>\n      <th>City</th>\n      <th>Place</th>\n      <th>Type</th>\n      <th>Primary</th>\n      <th>Zip_Code</th>\n      <th>Area_Code</th>\n      <th>ALand</th>\n      <th>AWater</th>\n      <th>Lat</th>\n      <th>Lon</th>\n      <th>Income</th>\n      <th>cost</th>\n    </tr>\n  </thead>\n  <tbody>\n    <tr>\n      <th>0</th>\n      <td>41</td>\n      <td>Oregon</td>\n      <td>OR</td>\n      <td>Baker County</td>\n      <td>Clackamas</td>\n      <td>Baker City city</td>\n      <td>Track</td>\n      <td>Track</td>\n      <td>97015</td>\n      <td>503</td>\n      <td>3706252</td>\n      <td>0</td>\n      <td>45.418880</td>\n      <td>-122.512645</td>\n      <td>469.496687</td>\n      <td>392700</td>\n    </tr>\n    <tr>\n      <th>1</th>\n      <td>41</td>\n      <td>Oregon</td>\n      <td>OR</td>\n      <td>Baker County</td>\n      <td>Portland</td>\n      <td>Baker City city</td>\n      <td>Track</td>\n      <td>Track</td>\n      <td>97266</td>\n      <td>503</td>\n      <td>2034574</td>\n      <td>0</td>\n      <td>45.445405</td>\n      <td>-122.574608</td>\n      <td>726.410780</td>\n      <td>730184</td>\n    </tr>\n    <tr>\n      <th>2</th>\n      <td>41</td>\n      <td>Oregon</td>\n      <td>OR</td>\n      <td>Baker County</td>\n      <td>Oregon City</td>\n      <td>Baker City city</td>\n      <td>Track</td>\n      <td>Track</td>\n      <td>97045</td>\n      <td>503</td>\n      <td>18885484</td>\n      <td>810773</td>\n      <td>45.384743</td>\n      <td>-122.545333</td>\n      <td>165.854955</td>\n      <td>23868</td>\n    </tr>\n    <tr>\n      <th>3</th>\n      <td>41</td>\n      <td>Oregon</td>\n      <td>OR</td>\n      <td>Baker County</td>\n      <td>Oregon City</td>\n      <td>Baker City city</td>\n      <td>Track</td>\n      <td>Track</td>\n      <td>97045</td>\n      <td>503</td>\n      <td>5646730</td>\n      <td>155949</td>\n      <td>45.345002</td>\n      <td>-122.600615</td>\n      <td>596.935074</td>\n      <td>709365</td>\n    </tr>\n    <tr>\n      <th>4</th>\n      <td>41</td>\n      <td>Oregon</td>\n      <td>OR</td>\n      <td>Baker County</td>\n      <td>Oregon City</td>\n      <td>Baker City city</td>\n      <td>Track</td>\n      <td>Track</td>\n      <td>97045</td>\n      <td>503</td>\n      <td>5345121</td>\n      <td>0</td>\n      <td>45.321189</td>\n      <td>-122.614660</td>\n      <td>754.486303</td>\n      <td>288108</td>\n    </tr>\n    <tr>\n      <th>...</th>\n      <td>...</td>\n      <td>...</td>\n      <td>...</td>\n      <td>...</td>\n      <td>...</td>\n      <td>...</td>\n      <td>...</td>\n      <td>...</td>\n      <td>...</td>\n      <td>...</td>\n      <td>...</td>\n      <td>...</td>\n      <td>...</td>\n      <td>...</td>\n      <td>...</td>\n      <td>...</td>\n    </tr>\n    <tr>\n      <th>8789</th>\n      <td>72</td>\n      <td>Puerto Rico</td>\n      <td>PR</td>\n      <td>Adjuntas Municipio</td>\n      <td>Adjuntas</td>\n      <td>Adjuntas</td>\n      <td>Track</td>\n      <td>Track</td>\n      <td>601</td>\n      <td>787</td>\n      <td>44833906</td>\n      <td>90659</td>\n      <td>18.204166</td>\n      <td>-66.737830</td>\n      <td>524.345149</td>\n      <td>48363</td>\n    </tr>\n    <tr>\n      <th>8790</th>\n      <td>72</td>\n      <td>Puerto Rico</td>\n      <td>PR</td>\n      <td>Adjuntas Municipio</td>\n      <td>Guaynabo</td>\n      <td>Adjuntas</td>\n      <td>Track</td>\n      <td>Track</td>\n      <td>970</td>\n      <td>787</td>\n      <td>589417</td>\n      <td>1691</td>\n      <td>18.397925</td>\n      <td>-66.130633</td>\n      <td>1321.278082</td>\n      <td>358980</td>\n    </tr>\n    <tr>\n      <th>8791</th>\n      <td>72</td>\n      <td>Puerto Rico</td>\n      <td>PR</td>\n      <td>Adjuntas Municipio</td>\n      <td>Aguada</td>\n      <td>Adjuntas</td>\n      <td>Track</td>\n      <td>Track</td>\n      <td>602</td>\n      <td>787</td>\n      <td>1801613</td>\n      <td>795887</td>\n      <td>18.385424</td>\n      <td>-67.203310</td>\n      <td>238.813450</td>\n      <td>31453</td>\n    </tr>\n    <tr>\n      <th>8792</th>\n      <td>72</td>\n      <td>Puerto Rico</td>\n      <td>PR</td>\n      <td>Adjuntas Municipio</td>\n      <td>Aguada</td>\n      <td>Adjuntas</td>\n      <td>Track</td>\n      <td>Track</td>\n      <td>602</td>\n      <td>787</td>\n      <td>11031227</td>\n      <td>0</td>\n      <td>18.356565</td>\n      <td>-67.180686</td>\n      <td>313.551070</td>\n      <td>31545</td>\n    </tr>\n    <tr>\n      <th>8793</th>\n      <td>72</td>\n      <td>Puerto Rico</td>\n      <td>PR</td>\n      <td>Adjuntas Municipio</td>\n      <td>Aguadilla</td>\n      <td>Adjuntas</td>\n      <td>Track</td>\n      <td>Track</td>\n      <td>603</td>\n      <td>787</td>\n      <td>6476604</td>\n      <td>2717115</td>\n      <td>18.478094</td>\n      <td>-67.160453</td>\n      <td>512.884803</td>\n      <td>39520</td>\n    </tr>\n  </tbody>\n</table>\n<p>8794 rows × 16 columns</p>\n</div>"
     },
     "execution_count": 9,
     "metadata": {},
     "output_type": "execute_result"
    }
   ]
  },
  {
   "cell_type": "code",
   "source": [
    "df_merge = df_merge.drop([ 'State_Code','State_Name','ALand', 'AWater', 'Lat', 'Lon'], axis=1)\n",
    "df_merge"
   ],
   "metadata": {
    "colab": {
     "base_uri": "https://localhost:8080/",
     "height": 423
    },
    "id": "qugzsr70lWm-",
    "outputId": "6ff0db5f-3849-4d08-a5eb-7c5758de2f02",
    "ExecuteTime": {
     "end_time": "2023-11-15T20:01:05.915497900Z",
     "start_time": "2023-11-15T20:01:03.703941700Z"
    }
   },
   "execution_count": 10,
   "outputs": [
    {
     "data": {
      "text/plain": "     State_ab              County         City            Place   Type  \\\n0          OR        Baker County    Clackamas  Baker City city  Track   \n1          OR        Baker County     Portland  Baker City city  Track   \n2          OR        Baker County  Oregon City  Baker City city  Track   \n3          OR        Baker County  Oregon City  Baker City city  Track   \n4          OR        Baker County  Oregon City  Baker City city  Track   \n...       ...                 ...          ...              ...    ...   \n8789       PR  Adjuntas Municipio     Adjuntas         Adjuntas  Track   \n8790       PR  Adjuntas Municipio     Guaynabo         Adjuntas  Track   \n8791       PR  Adjuntas Municipio       Aguada         Adjuntas  Track   \n8792       PR  Adjuntas Municipio       Aguada         Adjuntas  Track   \n8793       PR  Adjuntas Municipio    Aguadilla         Adjuntas  Track   \n\n     Primary  Zip_Code Area_Code       Income    cost  \n0      Track     97015       503   469.496687  392700  \n1      Track     97266       503   726.410780  730184  \n2      Track     97045       503   165.854955   23868  \n3      Track     97045       503   596.935074  709365  \n4      Track     97045       503   754.486303  288108  \n...      ...       ...       ...          ...     ...  \n8789   Track       601       787   524.345149   48363  \n8790   Track       970       787  1321.278082  358980  \n8791   Track       602       787   238.813450   31453  \n8792   Track       602       787   313.551070   31545  \n8793   Track       603       787   512.884803   39520  \n\n[8794 rows x 10 columns]",
      "text/html": "<div>\n<style scoped>\n    .dataframe tbody tr th:only-of-type {\n        vertical-align: middle;\n    }\n\n    .dataframe tbody tr th {\n        vertical-align: top;\n    }\n\n    .dataframe thead th {\n        text-align: right;\n    }\n</style>\n<table border=\"1\" class=\"dataframe\">\n  <thead>\n    <tr style=\"text-align: right;\">\n      <th></th>\n      <th>State_ab</th>\n      <th>County</th>\n      <th>City</th>\n      <th>Place</th>\n      <th>Type</th>\n      <th>Primary</th>\n      <th>Zip_Code</th>\n      <th>Area_Code</th>\n      <th>Income</th>\n      <th>cost</th>\n    </tr>\n  </thead>\n  <tbody>\n    <tr>\n      <th>0</th>\n      <td>OR</td>\n      <td>Baker County</td>\n      <td>Clackamas</td>\n      <td>Baker City city</td>\n      <td>Track</td>\n      <td>Track</td>\n      <td>97015</td>\n      <td>503</td>\n      <td>469.496687</td>\n      <td>392700</td>\n    </tr>\n    <tr>\n      <th>1</th>\n      <td>OR</td>\n      <td>Baker County</td>\n      <td>Portland</td>\n      <td>Baker City city</td>\n      <td>Track</td>\n      <td>Track</td>\n      <td>97266</td>\n      <td>503</td>\n      <td>726.410780</td>\n      <td>730184</td>\n    </tr>\n    <tr>\n      <th>2</th>\n      <td>OR</td>\n      <td>Baker County</td>\n      <td>Oregon City</td>\n      <td>Baker City city</td>\n      <td>Track</td>\n      <td>Track</td>\n      <td>97045</td>\n      <td>503</td>\n      <td>165.854955</td>\n      <td>23868</td>\n    </tr>\n    <tr>\n      <th>3</th>\n      <td>OR</td>\n      <td>Baker County</td>\n      <td>Oregon City</td>\n      <td>Baker City city</td>\n      <td>Track</td>\n      <td>Track</td>\n      <td>97045</td>\n      <td>503</td>\n      <td>596.935074</td>\n      <td>709365</td>\n    </tr>\n    <tr>\n      <th>4</th>\n      <td>OR</td>\n      <td>Baker County</td>\n      <td>Oregon City</td>\n      <td>Baker City city</td>\n      <td>Track</td>\n      <td>Track</td>\n      <td>97045</td>\n      <td>503</td>\n      <td>754.486303</td>\n      <td>288108</td>\n    </tr>\n    <tr>\n      <th>...</th>\n      <td>...</td>\n      <td>...</td>\n      <td>...</td>\n      <td>...</td>\n      <td>...</td>\n      <td>...</td>\n      <td>...</td>\n      <td>...</td>\n      <td>...</td>\n      <td>...</td>\n    </tr>\n    <tr>\n      <th>8789</th>\n      <td>PR</td>\n      <td>Adjuntas Municipio</td>\n      <td>Adjuntas</td>\n      <td>Adjuntas</td>\n      <td>Track</td>\n      <td>Track</td>\n      <td>601</td>\n      <td>787</td>\n      <td>524.345149</td>\n      <td>48363</td>\n    </tr>\n    <tr>\n      <th>8790</th>\n      <td>PR</td>\n      <td>Adjuntas Municipio</td>\n      <td>Guaynabo</td>\n      <td>Adjuntas</td>\n      <td>Track</td>\n      <td>Track</td>\n      <td>970</td>\n      <td>787</td>\n      <td>1321.278082</td>\n      <td>358980</td>\n    </tr>\n    <tr>\n      <th>8791</th>\n      <td>PR</td>\n      <td>Adjuntas Municipio</td>\n      <td>Aguada</td>\n      <td>Adjuntas</td>\n      <td>Track</td>\n      <td>Track</td>\n      <td>602</td>\n      <td>787</td>\n      <td>238.813450</td>\n      <td>31453</td>\n    </tr>\n    <tr>\n      <th>8792</th>\n      <td>PR</td>\n      <td>Adjuntas Municipio</td>\n      <td>Aguada</td>\n      <td>Adjuntas</td>\n      <td>Track</td>\n      <td>Track</td>\n      <td>602</td>\n      <td>787</td>\n      <td>313.551070</td>\n      <td>31545</td>\n    </tr>\n    <tr>\n      <th>8793</th>\n      <td>PR</td>\n      <td>Adjuntas Municipio</td>\n      <td>Aguadilla</td>\n      <td>Adjuntas</td>\n      <td>Track</td>\n      <td>Track</td>\n      <td>603</td>\n      <td>787</td>\n      <td>512.884803</td>\n      <td>39520</td>\n    </tr>\n  </tbody>\n</table>\n<p>8794 rows × 10 columns</p>\n</div>"
     },
     "execution_count": 10,
     "metadata": {},
     "output_type": "execute_result"
    }
   ]
  },
  {
   "cell_type": "code",
   "source": [
    "df_merge = df_merge.rename(columns={'Zip_Code':'zip'})\n",
    "df_merge"
   ],
   "metadata": {
    "colab": {
     "base_uri": "https://localhost:8080/",
     "height": 423
    },
    "id": "JR3vLXLG_B0o",
    "outputId": "082f1935-556a-48d3-beb7-b1312988ea89",
    "ExecuteTime": {
     "end_time": "2023-11-15T20:01:05.918497200Z",
     "start_time": "2023-11-15T20:01:03.719730500Z"
    }
   },
   "execution_count": 11,
   "outputs": [
    {
     "data": {
      "text/plain": "     State_ab              County         City            Place   Type  \\\n0          OR        Baker County    Clackamas  Baker City city  Track   \n1          OR        Baker County     Portland  Baker City city  Track   \n2          OR        Baker County  Oregon City  Baker City city  Track   \n3          OR        Baker County  Oregon City  Baker City city  Track   \n4          OR        Baker County  Oregon City  Baker City city  Track   \n...       ...                 ...          ...              ...    ...   \n8789       PR  Adjuntas Municipio     Adjuntas         Adjuntas  Track   \n8790       PR  Adjuntas Municipio     Guaynabo         Adjuntas  Track   \n8791       PR  Adjuntas Municipio       Aguada         Adjuntas  Track   \n8792       PR  Adjuntas Municipio       Aguada         Adjuntas  Track   \n8793       PR  Adjuntas Municipio    Aguadilla         Adjuntas  Track   \n\n     Primary    zip Area_Code       Income    cost  \n0      Track  97015       503   469.496687  392700  \n1      Track  97266       503   726.410780  730184  \n2      Track  97045       503   165.854955   23868  \n3      Track  97045       503   596.935074  709365  \n4      Track  97045       503   754.486303  288108  \n...      ...    ...       ...          ...     ...  \n8789   Track    601       787   524.345149   48363  \n8790   Track    970       787  1321.278082  358980  \n8791   Track    602       787   238.813450   31453  \n8792   Track    602       787   313.551070   31545  \n8793   Track    603       787   512.884803   39520  \n\n[8794 rows x 10 columns]",
      "text/html": "<div>\n<style scoped>\n    .dataframe tbody tr th:only-of-type {\n        vertical-align: middle;\n    }\n\n    .dataframe tbody tr th {\n        vertical-align: top;\n    }\n\n    .dataframe thead th {\n        text-align: right;\n    }\n</style>\n<table border=\"1\" class=\"dataframe\">\n  <thead>\n    <tr style=\"text-align: right;\">\n      <th></th>\n      <th>State_ab</th>\n      <th>County</th>\n      <th>City</th>\n      <th>Place</th>\n      <th>Type</th>\n      <th>Primary</th>\n      <th>zip</th>\n      <th>Area_Code</th>\n      <th>Income</th>\n      <th>cost</th>\n    </tr>\n  </thead>\n  <tbody>\n    <tr>\n      <th>0</th>\n      <td>OR</td>\n      <td>Baker County</td>\n      <td>Clackamas</td>\n      <td>Baker City city</td>\n      <td>Track</td>\n      <td>Track</td>\n      <td>97015</td>\n      <td>503</td>\n      <td>469.496687</td>\n      <td>392700</td>\n    </tr>\n    <tr>\n      <th>1</th>\n      <td>OR</td>\n      <td>Baker County</td>\n      <td>Portland</td>\n      <td>Baker City city</td>\n      <td>Track</td>\n      <td>Track</td>\n      <td>97266</td>\n      <td>503</td>\n      <td>726.410780</td>\n      <td>730184</td>\n    </tr>\n    <tr>\n      <th>2</th>\n      <td>OR</td>\n      <td>Baker County</td>\n      <td>Oregon City</td>\n      <td>Baker City city</td>\n      <td>Track</td>\n      <td>Track</td>\n      <td>97045</td>\n      <td>503</td>\n      <td>165.854955</td>\n      <td>23868</td>\n    </tr>\n    <tr>\n      <th>3</th>\n      <td>OR</td>\n      <td>Baker County</td>\n      <td>Oregon City</td>\n      <td>Baker City city</td>\n      <td>Track</td>\n      <td>Track</td>\n      <td>97045</td>\n      <td>503</td>\n      <td>596.935074</td>\n      <td>709365</td>\n    </tr>\n    <tr>\n      <th>4</th>\n      <td>OR</td>\n      <td>Baker County</td>\n      <td>Oregon City</td>\n      <td>Baker City city</td>\n      <td>Track</td>\n      <td>Track</td>\n      <td>97045</td>\n      <td>503</td>\n      <td>754.486303</td>\n      <td>288108</td>\n    </tr>\n    <tr>\n      <th>...</th>\n      <td>...</td>\n      <td>...</td>\n      <td>...</td>\n      <td>...</td>\n      <td>...</td>\n      <td>...</td>\n      <td>...</td>\n      <td>...</td>\n      <td>...</td>\n      <td>...</td>\n    </tr>\n    <tr>\n      <th>8789</th>\n      <td>PR</td>\n      <td>Adjuntas Municipio</td>\n      <td>Adjuntas</td>\n      <td>Adjuntas</td>\n      <td>Track</td>\n      <td>Track</td>\n      <td>601</td>\n      <td>787</td>\n      <td>524.345149</td>\n      <td>48363</td>\n    </tr>\n    <tr>\n      <th>8790</th>\n      <td>PR</td>\n      <td>Adjuntas Municipio</td>\n      <td>Guaynabo</td>\n      <td>Adjuntas</td>\n      <td>Track</td>\n      <td>Track</td>\n      <td>970</td>\n      <td>787</td>\n      <td>1321.278082</td>\n      <td>358980</td>\n    </tr>\n    <tr>\n      <th>8791</th>\n      <td>PR</td>\n      <td>Adjuntas Municipio</td>\n      <td>Aguada</td>\n      <td>Adjuntas</td>\n      <td>Track</td>\n      <td>Track</td>\n      <td>602</td>\n      <td>787</td>\n      <td>238.813450</td>\n      <td>31453</td>\n    </tr>\n    <tr>\n      <th>8792</th>\n      <td>PR</td>\n      <td>Adjuntas Municipio</td>\n      <td>Aguada</td>\n      <td>Adjuntas</td>\n      <td>Track</td>\n      <td>Track</td>\n      <td>602</td>\n      <td>787</td>\n      <td>313.551070</td>\n      <td>31545</td>\n    </tr>\n    <tr>\n      <th>8793</th>\n      <td>PR</td>\n      <td>Adjuntas Municipio</td>\n      <td>Aguadilla</td>\n      <td>Adjuntas</td>\n      <td>Track</td>\n      <td>Track</td>\n      <td>603</td>\n      <td>787</td>\n      <td>512.884803</td>\n      <td>39520</td>\n    </tr>\n  </tbody>\n</table>\n<p>8794 rows × 10 columns</p>\n</div>"
     },
     "execution_count": 11,
     "metadata": {},
     "output_type": "execute_result"
    }
   ]
  },
  {
   "cell_type": "code",
   "source": [
    "df_zip = pd.read_csv('uszips.csv')\n",
    "df_zip"
   ],
   "metadata": {
    "colab": {
     "base_uri": "https://localhost:8080/",
     "height": 617
    },
    "id": "e03YqJOO9w-F",
    "outputId": "51fd3591-0ef7-45ec-e056-b13abbd91690",
    "ExecuteTime": {
     "end_time": "2023-11-15T20:01:05.921501Z",
     "start_time": "2023-11-15T20:01:03.738999200Z"
    }
   },
   "execution_count": 12,
   "outputs": [
    {
     "data": {
      "text/plain": "         zip       lat        lng         city state_id   state_name  zcta  \\\n0        601  18.18027  -66.75266     Adjuntas       PR  Puerto Rico  True   \n1        602  18.36075  -67.17541       Aguada       PR  Puerto Rico  True   \n2        603  18.45744  -67.12225    Aguadilla       PR  Puerto Rico  True   \n3        606  18.16585  -66.93716      Maricao       PR  Puerto Rico  True   \n4        610  18.29110  -67.12243       Anasco       PR  Puerto Rico  True   \n...      ...       ...        ...          ...      ...          ...   ...   \n33783  99923  55.98043 -130.03803        Hyder       AK       Alaska  True   \n33784  99925  55.55398 -132.96276      Klawock       AK       Alaska  True   \n33785  99926  55.12617 -131.48928   Metlakatla       AK       Alaska  True   \n33786  99927  56.33305 -133.60044  Point Baker       AK       Alaska  True   \n33787  99929  56.36089 -132.00635     Wrangell       AK       Alaska  True   \n\n       parent_zcta  population  density  county_fips            county_name  \\\n0              NaN     17126.0    102.6        72001               Adjuntas   \n1              NaN     37895.0    482.5        72003                 Aguada   \n2              NaN     49136.0    552.4        72005              Aguadilla   \n3              NaN      5751.0     50.1        72093                Maricao   \n4              NaN     26153.0    272.1        72011                 Añasco   \n...            ...         ...      ...          ...                    ...   \n33783          NaN        13.0      0.3         2198  Prince of Wales-Hyder   \n33784          NaN       917.0      6.6         2198  Prince of Wales-Hyder   \n33785          NaN      1445.0      4.2         2198  Prince of Wales-Hyder   \n33786          NaN        11.0      0.9         2198  Prince of Wales-Hyder   \n33787          NaN      2161.0      0.3         2275               Wrangell   \n\n                                          county_weights  \\\n0                        {\"72001\": 98.73, \"72141\": 1.27}   \n1                                         {\"72003\": 100}   \n2                        {\"72005\": 99.76, \"72099\": 0.24}   \n3        {\"72093\": 82.27, \"72153\": 11.66, \"72121\": 6.06}   \n4      {\"72011\": 96.7, \"72099\": 2.81, \"72083\": 0.37, ...   \n...                                                  ...   \n33783                                     {\"02198\": 100}   \n33784                                     {\"02198\": 100}   \n33785                                     {\"02198\": 100}   \n33786                                     {\"02198\": 100}   \n33787                                     {\"02275\": 100}   \n\n                    county_names_all          county_fips_all  imprecise  \\\n0                    Adjuntas|Utuado              72001|72141      False   \n1                             Aguada                    72003      False   \n2                     Aguadilla|Moca              72005|72099      False   \n3        Maricao|Yauco|Sabana Grande        72093|72153|72121      False   \n4      Añasco|Moca|Las Marías|Aguada  72011|72099|72083|72003      False   \n...                              ...                      ...        ...   \n33783          Prince of Wales-Hyder                    02198      False   \n33784          Prince of Wales-Hyder                    02198      False   \n33785          Prince of Wales-Hyder                    02198      False   \n33786          Prince of Wales-Hyder                    02198      False   \n33787                       Wrangell                    02275      False   \n\n       military             timezone  \n0         False  America/Puerto_Rico  \n1         False  America/Puerto_Rico  \n2         False  America/Puerto_Rico  \n3         False  America/Puerto_Rico  \n4         False  America/Puerto_Rico  \n...         ...                  ...  \n33783     False        America/Sitka  \n33784     False        America/Sitka  \n33785     False   America/Metlakatla  \n33786     False        America/Sitka  \n33787     False        America/Sitka  \n\n[33788 rows x 18 columns]",
      "text/html": "<div>\n<style scoped>\n    .dataframe tbody tr th:only-of-type {\n        vertical-align: middle;\n    }\n\n    .dataframe tbody tr th {\n        vertical-align: top;\n    }\n\n    .dataframe thead th {\n        text-align: right;\n    }\n</style>\n<table border=\"1\" class=\"dataframe\">\n  <thead>\n    <tr style=\"text-align: right;\">\n      <th></th>\n      <th>zip</th>\n      <th>lat</th>\n      <th>lng</th>\n      <th>city</th>\n      <th>state_id</th>\n      <th>state_name</th>\n      <th>zcta</th>\n      <th>parent_zcta</th>\n      <th>population</th>\n      <th>density</th>\n      <th>county_fips</th>\n      <th>county_name</th>\n      <th>county_weights</th>\n      <th>county_names_all</th>\n      <th>county_fips_all</th>\n      <th>imprecise</th>\n      <th>military</th>\n      <th>timezone</th>\n    </tr>\n  </thead>\n  <tbody>\n    <tr>\n      <th>0</th>\n      <td>601</td>\n      <td>18.18027</td>\n      <td>-66.75266</td>\n      <td>Adjuntas</td>\n      <td>PR</td>\n      <td>Puerto Rico</td>\n      <td>True</td>\n      <td>NaN</td>\n      <td>17126.0</td>\n      <td>102.6</td>\n      <td>72001</td>\n      <td>Adjuntas</td>\n      <td>{\"72001\": 98.73, \"72141\": 1.27}</td>\n      <td>Adjuntas|Utuado</td>\n      <td>72001|72141</td>\n      <td>False</td>\n      <td>False</td>\n      <td>America/Puerto_Rico</td>\n    </tr>\n    <tr>\n      <th>1</th>\n      <td>602</td>\n      <td>18.36075</td>\n      <td>-67.17541</td>\n      <td>Aguada</td>\n      <td>PR</td>\n      <td>Puerto Rico</td>\n      <td>True</td>\n      <td>NaN</td>\n      <td>37895.0</td>\n      <td>482.5</td>\n      <td>72003</td>\n      <td>Aguada</td>\n      <td>{\"72003\": 100}</td>\n      <td>Aguada</td>\n      <td>72003</td>\n      <td>False</td>\n      <td>False</td>\n      <td>America/Puerto_Rico</td>\n    </tr>\n    <tr>\n      <th>2</th>\n      <td>603</td>\n      <td>18.45744</td>\n      <td>-67.12225</td>\n      <td>Aguadilla</td>\n      <td>PR</td>\n      <td>Puerto Rico</td>\n      <td>True</td>\n      <td>NaN</td>\n      <td>49136.0</td>\n      <td>552.4</td>\n      <td>72005</td>\n      <td>Aguadilla</td>\n      <td>{\"72005\": 99.76, \"72099\": 0.24}</td>\n      <td>Aguadilla|Moca</td>\n      <td>72005|72099</td>\n      <td>False</td>\n      <td>False</td>\n      <td>America/Puerto_Rico</td>\n    </tr>\n    <tr>\n      <th>3</th>\n      <td>606</td>\n      <td>18.16585</td>\n      <td>-66.93716</td>\n      <td>Maricao</td>\n      <td>PR</td>\n      <td>Puerto Rico</td>\n      <td>True</td>\n      <td>NaN</td>\n      <td>5751.0</td>\n      <td>50.1</td>\n      <td>72093</td>\n      <td>Maricao</td>\n      <td>{\"72093\": 82.27, \"72153\": 11.66, \"72121\": 6.06}</td>\n      <td>Maricao|Yauco|Sabana Grande</td>\n      <td>72093|72153|72121</td>\n      <td>False</td>\n      <td>False</td>\n      <td>America/Puerto_Rico</td>\n    </tr>\n    <tr>\n      <th>4</th>\n      <td>610</td>\n      <td>18.29110</td>\n      <td>-67.12243</td>\n      <td>Anasco</td>\n      <td>PR</td>\n      <td>Puerto Rico</td>\n      <td>True</td>\n      <td>NaN</td>\n      <td>26153.0</td>\n      <td>272.1</td>\n      <td>72011</td>\n      <td>Añasco</td>\n      <td>{\"72011\": 96.7, \"72099\": 2.81, \"72083\": 0.37, ...</td>\n      <td>Añasco|Moca|Las Marías|Aguada</td>\n      <td>72011|72099|72083|72003</td>\n      <td>False</td>\n      <td>False</td>\n      <td>America/Puerto_Rico</td>\n    </tr>\n    <tr>\n      <th>...</th>\n      <td>...</td>\n      <td>...</td>\n      <td>...</td>\n      <td>...</td>\n      <td>...</td>\n      <td>...</td>\n      <td>...</td>\n      <td>...</td>\n      <td>...</td>\n      <td>...</td>\n      <td>...</td>\n      <td>...</td>\n      <td>...</td>\n      <td>...</td>\n      <td>...</td>\n      <td>...</td>\n      <td>...</td>\n      <td>...</td>\n    </tr>\n    <tr>\n      <th>33783</th>\n      <td>99923</td>\n      <td>55.98043</td>\n      <td>-130.03803</td>\n      <td>Hyder</td>\n      <td>AK</td>\n      <td>Alaska</td>\n      <td>True</td>\n      <td>NaN</td>\n      <td>13.0</td>\n      <td>0.3</td>\n      <td>2198</td>\n      <td>Prince of Wales-Hyder</td>\n      <td>{\"02198\": 100}</td>\n      <td>Prince of Wales-Hyder</td>\n      <td>02198</td>\n      <td>False</td>\n      <td>False</td>\n      <td>America/Sitka</td>\n    </tr>\n    <tr>\n      <th>33784</th>\n      <td>99925</td>\n      <td>55.55398</td>\n      <td>-132.96276</td>\n      <td>Klawock</td>\n      <td>AK</td>\n      <td>Alaska</td>\n      <td>True</td>\n      <td>NaN</td>\n      <td>917.0</td>\n      <td>6.6</td>\n      <td>2198</td>\n      <td>Prince of Wales-Hyder</td>\n      <td>{\"02198\": 100}</td>\n      <td>Prince of Wales-Hyder</td>\n      <td>02198</td>\n      <td>False</td>\n      <td>False</td>\n      <td>America/Sitka</td>\n    </tr>\n    <tr>\n      <th>33785</th>\n      <td>99926</td>\n      <td>55.12617</td>\n      <td>-131.48928</td>\n      <td>Metlakatla</td>\n      <td>AK</td>\n      <td>Alaska</td>\n      <td>True</td>\n      <td>NaN</td>\n      <td>1445.0</td>\n      <td>4.2</td>\n      <td>2198</td>\n      <td>Prince of Wales-Hyder</td>\n      <td>{\"02198\": 100}</td>\n      <td>Prince of Wales-Hyder</td>\n      <td>02198</td>\n      <td>False</td>\n      <td>False</td>\n      <td>America/Metlakatla</td>\n    </tr>\n    <tr>\n      <th>33786</th>\n      <td>99927</td>\n      <td>56.33305</td>\n      <td>-133.60044</td>\n      <td>Point Baker</td>\n      <td>AK</td>\n      <td>Alaska</td>\n      <td>True</td>\n      <td>NaN</td>\n      <td>11.0</td>\n      <td>0.9</td>\n      <td>2198</td>\n      <td>Prince of Wales-Hyder</td>\n      <td>{\"02198\": 100}</td>\n      <td>Prince of Wales-Hyder</td>\n      <td>02198</td>\n      <td>False</td>\n      <td>False</td>\n      <td>America/Sitka</td>\n    </tr>\n    <tr>\n      <th>33787</th>\n      <td>99929</td>\n      <td>56.36089</td>\n      <td>-132.00635</td>\n      <td>Wrangell</td>\n      <td>AK</td>\n      <td>Alaska</td>\n      <td>True</td>\n      <td>NaN</td>\n      <td>2161.0</td>\n      <td>0.3</td>\n      <td>2275</td>\n      <td>Wrangell</td>\n      <td>{\"02275\": 100}</td>\n      <td>Wrangell</td>\n      <td>02275</td>\n      <td>False</td>\n      <td>False</td>\n      <td>America/Sitka</td>\n    </tr>\n  </tbody>\n</table>\n<p>33788 rows × 18 columns</p>\n</div>"
     },
     "execution_count": 12,
     "metadata": {},
     "output_type": "execute_result"
    }
   ]
  },
  {
   "cell_type": "code",
   "source": [
    "df_merge_2 = pd.merge(df_merge, df_zip, on='zip')\n",
    "df_merge_2['isMetro'] = df_merge_2['density'] >= 500\n",
    "df_merge_2"
   ],
   "metadata": {
    "colab": {
     "base_uri": "https://localhost:8080/",
     "height": 617
    },
    "id": "W4DHY5Ko_Uuv",
    "outputId": "55c754cc-255b-4b27-d44e-522cc97c4c9e",
    "ExecuteTime": {
     "end_time": "2023-11-15T20:01:05.923498100Z",
     "start_time": "2023-11-15T20:01:04.014355800Z"
    }
   },
   "execution_count": 13,
   "outputs": [
    {
     "data": {
      "text/plain": "     State_ab              County         City            Place   Type  \\\n0          OR        Baker County    Clackamas  Baker City city  Track   \n1          OR        Baker County     Portland  Baker City city  Track   \n2          OR        Baker County     Portland  Baker City city  Track   \n3          OR        Baker County     Portland  Baker City city  Track   \n4          OR        Baker County  Oregon City  Baker City city  Track   \n...       ...                 ...          ...              ...    ...   \n8561       PR  Adjuntas Municipio     Adjuntas         Adjuntas  Track   \n8562       PR  Adjuntas Municipio     Adjuntas         Adjuntas  Track   \n8563       PR  Adjuntas Municipio     Adjuntas         Adjuntas  Track   \n8564       PR  Adjuntas Municipio        Ponce         Adjuntas  Track   \n8565       PR  Adjuntas Municipio     Toa Baja         Adjuntas  Track   \n\n     Primary    zip Area_Code      Income    cost  ...  density  county_fips  \\\n0      Track  97015       503  469.496687  392700  ...   1028.1        41005   \n1      Track  97266       503  726.410780  730184  ...   2254.4        41051   \n2      Track  97266       503  313.393251  164984  ...   2254.4        41051   \n3      Track  97266       503  425.382908  300160  ...   2254.4        41051   \n4      Track  97045       503  165.854955   23868  ...    252.1        41005   \n...      ...    ...       ...         ...     ...  ...      ...          ...   \n8561   Track    601       787  615.289902   76838  ...    102.6        72001   \n8562   Track    601       787  615.289902   46355  ...    102.6        72001   \n8563   Track    601       787  524.345149   48363  ...    102.6        72001   \n8564   Track    715       787  937.793239   96571  ...     61.1        72113   \n8565   Track    951       787  919.382495  202070  ...    135.5        72137   \n\n     county_name                   county_weights  county_names_all  \\\n0      Clackamas                   {\"41005\": 100}         Clackamas   \n1      Multnomah                   {\"41051\": 100}         Multnomah   \n2      Multnomah                   {\"41051\": 100}         Multnomah   \n3      Multnomah                   {\"41051\": 100}         Multnomah   \n4      Clackamas                   {\"41005\": 100}         Clackamas   \n...          ...                              ...               ...   \n8561    Adjuntas  {\"72001\": 98.73, \"72141\": 1.27}   Adjuntas|Utuado   \n8562    Adjuntas  {\"72001\": 98.73, \"72141\": 1.27}   Adjuntas|Utuado   \n8563    Adjuntas  {\"72001\": 98.73, \"72141\": 1.27}   Adjuntas|Utuado   \n8564       Ponce  {\"72113\": 99.08, \"72075\": 0.92}  Ponce|Juana Díaz   \n8565    Toa Baja                   {\"72137\": 100}          Toa Baja   \n\n      county_fips_all  imprecise  military             timezone  isMetro  \n0               41005      False     False  America/Los_Angeles     True  \n1               41051      False     False  America/Los_Angeles     True  \n2               41051      False     False  America/Los_Angeles     True  \n3               41051      False     False  America/Los_Angeles     True  \n4               41005      False     False  America/Los_Angeles    False  \n...               ...        ...       ...                  ...      ...  \n8561      72001|72141      False     False  America/Puerto_Rico    False  \n8562      72001|72141      False     False  America/Puerto_Rico    False  \n8563      72001|72141      False     False  America/Puerto_Rico    False  \n8564      72113|72075      False     False  America/Puerto_Rico    False  \n8565            72137      False     False  America/Puerto_Rico    False  \n\n[8566 rows x 28 columns]",
      "text/html": "<div>\n<style scoped>\n    .dataframe tbody tr th:only-of-type {\n        vertical-align: middle;\n    }\n\n    .dataframe tbody tr th {\n        vertical-align: top;\n    }\n\n    .dataframe thead th {\n        text-align: right;\n    }\n</style>\n<table border=\"1\" class=\"dataframe\">\n  <thead>\n    <tr style=\"text-align: right;\">\n      <th></th>\n      <th>State_ab</th>\n      <th>County</th>\n      <th>City</th>\n      <th>Place</th>\n      <th>Type</th>\n      <th>Primary</th>\n      <th>zip</th>\n      <th>Area_Code</th>\n      <th>Income</th>\n      <th>cost</th>\n      <th>...</th>\n      <th>density</th>\n      <th>county_fips</th>\n      <th>county_name</th>\n      <th>county_weights</th>\n      <th>county_names_all</th>\n      <th>county_fips_all</th>\n      <th>imprecise</th>\n      <th>military</th>\n      <th>timezone</th>\n      <th>isMetro</th>\n    </tr>\n  </thead>\n  <tbody>\n    <tr>\n      <th>0</th>\n      <td>OR</td>\n      <td>Baker County</td>\n      <td>Clackamas</td>\n      <td>Baker City city</td>\n      <td>Track</td>\n      <td>Track</td>\n      <td>97015</td>\n      <td>503</td>\n      <td>469.496687</td>\n      <td>392700</td>\n      <td>...</td>\n      <td>1028.1</td>\n      <td>41005</td>\n      <td>Clackamas</td>\n      <td>{\"41005\": 100}</td>\n      <td>Clackamas</td>\n      <td>41005</td>\n      <td>False</td>\n      <td>False</td>\n      <td>America/Los_Angeles</td>\n      <td>True</td>\n    </tr>\n    <tr>\n      <th>1</th>\n      <td>OR</td>\n      <td>Baker County</td>\n      <td>Portland</td>\n      <td>Baker City city</td>\n      <td>Track</td>\n      <td>Track</td>\n      <td>97266</td>\n      <td>503</td>\n      <td>726.410780</td>\n      <td>730184</td>\n      <td>...</td>\n      <td>2254.4</td>\n      <td>41051</td>\n      <td>Multnomah</td>\n      <td>{\"41051\": 100}</td>\n      <td>Multnomah</td>\n      <td>41051</td>\n      <td>False</td>\n      <td>False</td>\n      <td>America/Los_Angeles</td>\n      <td>True</td>\n    </tr>\n    <tr>\n      <th>2</th>\n      <td>OR</td>\n      <td>Baker County</td>\n      <td>Portland</td>\n      <td>Baker City city</td>\n      <td>Track</td>\n      <td>Track</td>\n      <td>97266</td>\n      <td>503</td>\n      <td>313.393251</td>\n      <td>164984</td>\n      <td>...</td>\n      <td>2254.4</td>\n      <td>41051</td>\n      <td>Multnomah</td>\n      <td>{\"41051\": 100}</td>\n      <td>Multnomah</td>\n      <td>41051</td>\n      <td>False</td>\n      <td>False</td>\n      <td>America/Los_Angeles</td>\n      <td>True</td>\n    </tr>\n    <tr>\n      <th>3</th>\n      <td>OR</td>\n      <td>Baker County</td>\n      <td>Portland</td>\n      <td>Baker City city</td>\n      <td>Track</td>\n      <td>Track</td>\n      <td>97266</td>\n      <td>503</td>\n      <td>425.382908</td>\n      <td>300160</td>\n      <td>...</td>\n      <td>2254.4</td>\n      <td>41051</td>\n      <td>Multnomah</td>\n      <td>{\"41051\": 100}</td>\n      <td>Multnomah</td>\n      <td>41051</td>\n      <td>False</td>\n      <td>False</td>\n      <td>America/Los_Angeles</td>\n      <td>True</td>\n    </tr>\n    <tr>\n      <th>4</th>\n      <td>OR</td>\n      <td>Baker County</td>\n      <td>Oregon City</td>\n      <td>Baker City city</td>\n      <td>Track</td>\n      <td>Track</td>\n      <td>97045</td>\n      <td>503</td>\n      <td>165.854955</td>\n      <td>23868</td>\n      <td>...</td>\n      <td>252.1</td>\n      <td>41005</td>\n      <td>Clackamas</td>\n      <td>{\"41005\": 100}</td>\n      <td>Clackamas</td>\n      <td>41005</td>\n      <td>False</td>\n      <td>False</td>\n      <td>America/Los_Angeles</td>\n      <td>False</td>\n    </tr>\n    <tr>\n      <th>...</th>\n      <td>...</td>\n      <td>...</td>\n      <td>...</td>\n      <td>...</td>\n      <td>...</td>\n      <td>...</td>\n      <td>...</td>\n      <td>...</td>\n      <td>...</td>\n      <td>...</td>\n      <td>...</td>\n      <td>...</td>\n      <td>...</td>\n      <td>...</td>\n      <td>...</td>\n      <td>...</td>\n      <td>...</td>\n      <td>...</td>\n      <td>...</td>\n      <td>...</td>\n      <td>...</td>\n    </tr>\n    <tr>\n      <th>8561</th>\n      <td>PR</td>\n      <td>Adjuntas Municipio</td>\n      <td>Adjuntas</td>\n      <td>Adjuntas</td>\n      <td>Track</td>\n      <td>Track</td>\n      <td>601</td>\n      <td>787</td>\n      <td>615.289902</td>\n      <td>76838</td>\n      <td>...</td>\n      <td>102.6</td>\n      <td>72001</td>\n      <td>Adjuntas</td>\n      <td>{\"72001\": 98.73, \"72141\": 1.27}</td>\n      <td>Adjuntas|Utuado</td>\n      <td>72001|72141</td>\n      <td>False</td>\n      <td>False</td>\n      <td>America/Puerto_Rico</td>\n      <td>False</td>\n    </tr>\n    <tr>\n      <th>8562</th>\n      <td>PR</td>\n      <td>Adjuntas Municipio</td>\n      <td>Adjuntas</td>\n      <td>Adjuntas</td>\n      <td>Track</td>\n      <td>Track</td>\n      <td>601</td>\n      <td>787</td>\n      <td>615.289902</td>\n      <td>46355</td>\n      <td>...</td>\n      <td>102.6</td>\n      <td>72001</td>\n      <td>Adjuntas</td>\n      <td>{\"72001\": 98.73, \"72141\": 1.27}</td>\n      <td>Adjuntas|Utuado</td>\n      <td>72001|72141</td>\n      <td>False</td>\n      <td>False</td>\n      <td>America/Puerto_Rico</td>\n      <td>False</td>\n    </tr>\n    <tr>\n      <th>8563</th>\n      <td>PR</td>\n      <td>Adjuntas Municipio</td>\n      <td>Adjuntas</td>\n      <td>Adjuntas</td>\n      <td>Track</td>\n      <td>Track</td>\n      <td>601</td>\n      <td>787</td>\n      <td>524.345149</td>\n      <td>48363</td>\n      <td>...</td>\n      <td>102.6</td>\n      <td>72001</td>\n      <td>Adjuntas</td>\n      <td>{\"72001\": 98.73, \"72141\": 1.27}</td>\n      <td>Adjuntas|Utuado</td>\n      <td>72001|72141</td>\n      <td>False</td>\n      <td>False</td>\n      <td>America/Puerto_Rico</td>\n      <td>False</td>\n    </tr>\n    <tr>\n      <th>8564</th>\n      <td>PR</td>\n      <td>Adjuntas Municipio</td>\n      <td>Ponce</td>\n      <td>Adjuntas</td>\n      <td>Track</td>\n      <td>Track</td>\n      <td>715</td>\n      <td>787</td>\n      <td>937.793239</td>\n      <td>96571</td>\n      <td>...</td>\n      <td>61.1</td>\n      <td>72113</td>\n      <td>Ponce</td>\n      <td>{\"72113\": 99.08, \"72075\": 0.92}</td>\n      <td>Ponce|Juana Díaz</td>\n      <td>72113|72075</td>\n      <td>False</td>\n      <td>False</td>\n      <td>America/Puerto_Rico</td>\n      <td>False</td>\n    </tr>\n    <tr>\n      <th>8565</th>\n      <td>PR</td>\n      <td>Adjuntas Municipio</td>\n      <td>Toa Baja</td>\n      <td>Adjuntas</td>\n      <td>Track</td>\n      <td>Track</td>\n      <td>951</td>\n      <td>787</td>\n      <td>919.382495</td>\n      <td>202070</td>\n      <td>...</td>\n      <td>135.5</td>\n      <td>72137</td>\n      <td>Toa Baja</td>\n      <td>{\"72137\": 100}</td>\n      <td>Toa Baja</td>\n      <td>72137</td>\n      <td>False</td>\n      <td>False</td>\n      <td>America/Puerto_Rico</td>\n      <td>False</td>\n    </tr>\n  </tbody>\n</table>\n<p>8566 rows × 28 columns</p>\n</div>"
     },
     "execution_count": 13,
     "metadata": {},
     "output_type": "execute_result"
    }
   ]
  },
  {
   "cell_type": "code",
   "source": [
    "df_merge_2 = df_merge_2.drop(['City', 'Place', 'Type', 'Primary', 'zip', 'Area_Code', 'density', 'county_fips', 'county_name', 'county_weights', 'county_names_all','imprecise', 'military', 'timezone', 'lat', 'lng','city','state_id','zcta','parent_zcta', 'population', 'county_fips_all', 'state_name'], axis=1)\n",
    "df_merge_2"
   ],
   "metadata": {
    "colab": {
     "base_uri": "https://localhost:8080/",
     "height": 423
    },
    "id": "oUZArVNsAoWW",
    "outputId": "68e58f02-9276-4432-adde-cd9349865174",
    "ExecuteTime": {
     "end_time": "2023-11-15T20:01:05.924497900Z",
     "start_time": "2023-11-15T20:01:04.074674700Z"
    }
   },
   "execution_count": 14,
   "outputs": [
    {
     "data": {
      "text/plain": "     State_ab              County      Income    cost  isMetro\n0          OR        Baker County  469.496687  392700     True\n1          OR        Baker County  726.410780  730184     True\n2          OR        Baker County  313.393251  164984     True\n3          OR        Baker County  425.382908  300160     True\n4          OR        Baker County  165.854955   23868    False\n...       ...                 ...         ...     ...      ...\n8561       PR  Adjuntas Municipio  615.289902   76838    False\n8562       PR  Adjuntas Municipio  615.289902   46355    False\n8563       PR  Adjuntas Municipio  524.345149   48363    False\n8564       PR  Adjuntas Municipio  937.793239   96571    False\n8565       PR  Adjuntas Municipio  919.382495  202070    False\n\n[8566 rows x 5 columns]",
      "text/html": "<div>\n<style scoped>\n    .dataframe tbody tr th:only-of-type {\n        vertical-align: middle;\n    }\n\n    .dataframe tbody tr th {\n        vertical-align: top;\n    }\n\n    .dataframe thead th {\n        text-align: right;\n    }\n</style>\n<table border=\"1\" class=\"dataframe\">\n  <thead>\n    <tr style=\"text-align: right;\">\n      <th></th>\n      <th>State_ab</th>\n      <th>County</th>\n      <th>Income</th>\n      <th>cost</th>\n      <th>isMetro</th>\n    </tr>\n  </thead>\n  <tbody>\n    <tr>\n      <th>0</th>\n      <td>OR</td>\n      <td>Baker County</td>\n      <td>469.496687</td>\n      <td>392700</td>\n      <td>True</td>\n    </tr>\n    <tr>\n      <th>1</th>\n      <td>OR</td>\n      <td>Baker County</td>\n      <td>726.410780</td>\n      <td>730184</td>\n      <td>True</td>\n    </tr>\n    <tr>\n      <th>2</th>\n      <td>OR</td>\n      <td>Baker County</td>\n      <td>313.393251</td>\n      <td>164984</td>\n      <td>True</td>\n    </tr>\n    <tr>\n      <th>3</th>\n      <td>OR</td>\n      <td>Baker County</td>\n      <td>425.382908</td>\n      <td>300160</td>\n      <td>True</td>\n    </tr>\n    <tr>\n      <th>4</th>\n      <td>OR</td>\n      <td>Baker County</td>\n      <td>165.854955</td>\n      <td>23868</td>\n      <td>False</td>\n    </tr>\n    <tr>\n      <th>...</th>\n      <td>...</td>\n      <td>...</td>\n      <td>...</td>\n      <td>...</td>\n      <td>...</td>\n    </tr>\n    <tr>\n      <th>8561</th>\n      <td>PR</td>\n      <td>Adjuntas Municipio</td>\n      <td>615.289902</td>\n      <td>76838</td>\n      <td>False</td>\n    </tr>\n    <tr>\n      <th>8562</th>\n      <td>PR</td>\n      <td>Adjuntas Municipio</td>\n      <td>615.289902</td>\n      <td>46355</td>\n      <td>False</td>\n    </tr>\n    <tr>\n      <th>8563</th>\n      <td>PR</td>\n      <td>Adjuntas Municipio</td>\n      <td>524.345149</td>\n      <td>48363</td>\n      <td>False</td>\n    </tr>\n    <tr>\n      <th>8564</th>\n      <td>PR</td>\n      <td>Adjuntas Municipio</td>\n      <td>937.793239</td>\n      <td>96571</td>\n      <td>False</td>\n    </tr>\n    <tr>\n      <th>8565</th>\n      <td>PR</td>\n      <td>Adjuntas Municipio</td>\n      <td>919.382495</td>\n      <td>202070</td>\n      <td>False</td>\n    </tr>\n  </tbody>\n</table>\n<p>8566 rows × 5 columns</p>\n</div>"
     },
     "execution_count": 14,
     "metadata": {},
     "output_type": "execute_result"
    }
   ]
  },
  {
   "cell_type": "code",
   "source": [
    "df_merge_2['adult_count'] = 1\n",
    "df_merge_2['child_count'] = 0\n",
    "df_merge_2"
   ],
   "metadata": {
    "colab": {
     "base_uri": "https://localhost:8080/",
     "height": 423
    },
    "id": "wsgaS6ejHmwm",
    "outputId": "817c35ac-0558-4aca-8553-07d93533016b",
    "ExecuteTime": {
     "end_time": "2023-11-15T20:01:05.926499400Z",
     "start_time": "2023-11-15T20:01:04.087951500Z"
    }
   },
   "execution_count": 15,
   "outputs": [
    {
     "data": {
      "text/plain": "     State_ab              County      Income    cost  isMetro  adult_count  \\\n0          OR        Baker County  469.496687  392700     True            1   \n1          OR        Baker County  726.410780  730184     True            1   \n2          OR        Baker County  313.393251  164984     True            1   \n3          OR        Baker County  425.382908  300160     True            1   \n4          OR        Baker County  165.854955   23868    False            1   \n...       ...                 ...         ...     ...      ...          ...   \n8561       PR  Adjuntas Municipio  615.289902   76838    False            1   \n8562       PR  Adjuntas Municipio  615.289902   46355    False            1   \n8563       PR  Adjuntas Municipio  524.345149   48363    False            1   \n8564       PR  Adjuntas Municipio  937.793239   96571    False            1   \n8565       PR  Adjuntas Municipio  919.382495  202070    False            1   \n\n      child_count  \n0               0  \n1               0  \n2               0  \n3               0  \n4               0  \n...           ...  \n8561            0  \n8562            0  \n8563            0  \n8564            0  \n8565            0  \n\n[8566 rows x 7 columns]",
      "text/html": "<div>\n<style scoped>\n    .dataframe tbody tr th:only-of-type {\n        vertical-align: middle;\n    }\n\n    .dataframe tbody tr th {\n        vertical-align: top;\n    }\n\n    .dataframe thead th {\n        text-align: right;\n    }\n</style>\n<table border=\"1\" class=\"dataframe\">\n  <thead>\n    <tr style=\"text-align: right;\">\n      <th></th>\n      <th>State_ab</th>\n      <th>County</th>\n      <th>Income</th>\n      <th>cost</th>\n      <th>isMetro</th>\n      <th>adult_count</th>\n      <th>child_count</th>\n    </tr>\n  </thead>\n  <tbody>\n    <tr>\n      <th>0</th>\n      <td>OR</td>\n      <td>Baker County</td>\n      <td>469.496687</td>\n      <td>392700</td>\n      <td>True</td>\n      <td>1</td>\n      <td>0</td>\n    </tr>\n    <tr>\n      <th>1</th>\n      <td>OR</td>\n      <td>Baker County</td>\n      <td>726.410780</td>\n      <td>730184</td>\n      <td>True</td>\n      <td>1</td>\n      <td>0</td>\n    </tr>\n    <tr>\n      <th>2</th>\n      <td>OR</td>\n      <td>Baker County</td>\n      <td>313.393251</td>\n      <td>164984</td>\n      <td>True</td>\n      <td>1</td>\n      <td>0</td>\n    </tr>\n    <tr>\n      <th>3</th>\n      <td>OR</td>\n      <td>Baker County</td>\n      <td>425.382908</td>\n      <td>300160</td>\n      <td>True</td>\n      <td>1</td>\n      <td>0</td>\n    </tr>\n    <tr>\n      <th>4</th>\n      <td>OR</td>\n      <td>Baker County</td>\n      <td>165.854955</td>\n      <td>23868</td>\n      <td>False</td>\n      <td>1</td>\n      <td>0</td>\n    </tr>\n    <tr>\n      <th>...</th>\n      <td>...</td>\n      <td>...</td>\n      <td>...</td>\n      <td>...</td>\n      <td>...</td>\n      <td>...</td>\n      <td>...</td>\n    </tr>\n    <tr>\n      <th>8561</th>\n      <td>PR</td>\n      <td>Adjuntas Municipio</td>\n      <td>615.289902</td>\n      <td>76838</td>\n      <td>False</td>\n      <td>1</td>\n      <td>0</td>\n    </tr>\n    <tr>\n      <th>8562</th>\n      <td>PR</td>\n      <td>Adjuntas Municipio</td>\n      <td>615.289902</td>\n      <td>46355</td>\n      <td>False</td>\n      <td>1</td>\n      <td>0</td>\n    </tr>\n    <tr>\n      <th>8563</th>\n      <td>PR</td>\n      <td>Adjuntas Municipio</td>\n      <td>524.345149</td>\n      <td>48363</td>\n      <td>False</td>\n      <td>1</td>\n      <td>0</td>\n    </tr>\n    <tr>\n      <th>8564</th>\n      <td>PR</td>\n      <td>Adjuntas Municipio</td>\n      <td>937.793239</td>\n      <td>96571</td>\n      <td>False</td>\n      <td>1</td>\n      <td>0</td>\n    </tr>\n    <tr>\n      <th>8565</th>\n      <td>PR</td>\n      <td>Adjuntas Municipio</td>\n      <td>919.382495</td>\n      <td>202070</td>\n      <td>False</td>\n      <td>1</td>\n      <td>0</td>\n    </tr>\n  </tbody>\n</table>\n<p>8566 rows × 7 columns</p>\n</div>"
     },
     "execution_count": 15,
     "metadata": {},
     "output_type": "execute_result"
    }
   ]
  },
  {
   "cell_type": "code",
   "source": [
    "df_merge_2 = df_merge_2.rename(columns={'County': 'county', 'Income':'income', 'State_ab': 'state'})\n",
    "df_merge_2"
   ],
   "metadata": {
    "colab": {
     "base_uri": "https://localhost:8080/",
     "height": 423
    },
    "id": "HxmUin_hH5eF",
    "outputId": "a3258eb6-48f0-4475-a2c2-99517cf2e297",
    "ExecuteTime": {
     "end_time": "2023-11-15T20:01:05.927499400Z",
     "start_time": "2023-11-15T20:01:04.102843600Z"
    }
   },
   "execution_count": 16,
   "outputs": [
    {
     "data": {
      "text/plain": "     state              county      income    cost  isMetro  adult_count  \\\n0       OR        Baker County  469.496687  392700     True            1   \n1       OR        Baker County  726.410780  730184     True            1   \n2       OR        Baker County  313.393251  164984     True            1   \n3       OR        Baker County  425.382908  300160     True            1   \n4       OR        Baker County  165.854955   23868    False            1   \n...    ...                 ...         ...     ...      ...          ...   \n8561    PR  Adjuntas Municipio  615.289902   76838    False            1   \n8562    PR  Adjuntas Municipio  615.289902   46355    False            1   \n8563    PR  Adjuntas Municipio  524.345149   48363    False            1   \n8564    PR  Adjuntas Municipio  937.793239   96571    False            1   \n8565    PR  Adjuntas Municipio  919.382495  202070    False            1   \n\n      child_count  \n0               0  \n1               0  \n2               0  \n3               0  \n4               0  \n...           ...  \n8561            0  \n8562            0  \n8563            0  \n8564            0  \n8565            0  \n\n[8566 rows x 7 columns]",
      "text/html": "<div>\n<style scoped>\n    .dataframe tbody tr th:only-of-type {\n        vertical-align: middle;\n    }\n\n    .dataframe tbody tr th {\n        vertical-align: top;\n    }\n\n    .dataframe thead th {\n        text-align: right;\n    }\n</style>\n<table border=\"1\" class=\"dataframe\">\n  <thead>\n    <tr style=\"text-align: right;\">\n      <th></th>\n      <th>state</th>\n      <th>county</th>\n      <th>income</th>\n      <th>cost</th>\n      <th>isMetro</th>\n      <th>adult_count</th>\n      <th>child_count</th>\n    </tr>\n  </thead>\n  <tbody>\n    <tr>\n      <th>0</th>\n      <td>OR</td>\n      <td>Baker County</td>\n      <td>469.496687</td>\n      <td>392700</td>\n      <td>True</td>\n      <td>1</td>\n      <td>0</td>\n    </tr>\n    <tr>\n      <th>1</th>\n      <td>OR</td>\n      <td>Baker County</td>\n      <td>726.410780</td>\n      <td>730184</td>\n      <td>True</td>\n      <td>1</td>\n      <td>0</td>\n    </tr>\n    <tr>\n      <th>2</th>\n      <td>OR</td>\n      <td>Baker County</td>\n      <td>313.393251</td>\n      <td>164984</td>\n      <td>True</td>\n      <td>1</td>\n      <td>0</td>\n    </tr>\n    <tr>\n      <th>3</th>\n      <td>OR</td>\n      <td>Baker County</td>\n      <td>425.382908</td>\n      <td>300160</td>\n      <td>True</td>\n      <td>1</td>\n      <td>0</td>\n    </tr>\n    <tr>\n      <th>4</th>\n      <td>OR</td>\n      <td>Baker County</td>\n      <td>165.854955</td>\n      <td>23868</td>\n      <td>False</td>\n      <td>1</td>\n      <td>0</td>\n    </tr>\n    <tr>\n      <th>...</th>\n      <td>...</td>\n      <td>...</td>\n      <td>...</td>\n      <td>...</td>\n      <td>...</td>\n      <td>...</td>\n      <td>...</td>\n    </tr>\n    <tr>\n      <th>8561</th>\n      <td>PR</td>\n      <td>Adjuntas Municipio</td>\n      <td>615.289902</td>\n      <td>76838</td>\n      <td>False</td>\n      <td>1</td>\n      <td>0</td>\n    </tr>\n    <tr>\n      <th>8562</th>\n      <td>PR</td>\n      <td>Adjuntas Municipio</td>\n      <td>615.289902</td>\n      <td>46355</td>\n      <td>False</td>\n      <td>1</td>\n      <td>0</td>\n    </tr>\n    <tr>\n      <th>8563</th>\n      <td>PR</td>\n      <td>Adjuntas Municipio</td>\n      <td>524.345149</td>\n      <td>48363</td>\n      <td>False</td>\n      <td>1</td>\n      <td>0</td>\n    </tr>\n    <tr>\n      <th>8564</th>\n      <td>PR</td>\n      <td>Adjuntas Municipio</td>\n      <td>937.793239</td>\n      <td>96571</td>\n      <td>False</td>\n      <td>1</td>\n      <td>0</td>\n    </tr>\n    <tr>\n      <th>8565</th>\n      <td>PR</td>\n      <td>Adjuntas Municipio</td>\n      <td>919.382495</td>\n      <td>202070</td>\n      <td>False</td>\n      <td>1</td>\n      <td>0</td>\n    </tr>\n  </tbody>\n</table>\n<p>8566 rows × 7 columns</p>\n</div>"
     },
     "execution_count": 16,
     "metadata": {},
     "output_type": "execute_result"
    }
   ]
  },
  {
   "cell_type": "code",
   "source": [
    "df = pd.concat([df, df_merge_2])\n",
    "df"
   ],
   "metadata": {
    "colab": {
     "base_uri": "https://localhost:8080/",
     "height": 423
    },
    "id": "TF0HMHO4J1lt",
    "outputId": "8aefe222-7942-4818-8544-571295e8683b",
    "ExecuteTime": {
     "end_time": "2023-11-15T20:01:05.929499300Z",
     "start_time": "2023-11-15T20:01:04.118277Z"
    }
   },
   "execution_count": 17,
   "outputs": [
    {
     "data": {
      "text/plain": "     state  isMetro              county         cost        income  \\\n0       AL     True      Autauga County   39254.0532  73010.414062   \n1       AL     True      Autauga County   57194.3256  73010.414062   \n2       AL     True      Autauga County   76141.0308  73010.414062   \n3       AL     True      Autauga County   94203.5328  73010.414062   \n4       AL     True      Autauga County  100823.5200  73010.414062   \n...    ...      ...                 ...          ...           ...   \n8561    PR    False  Adjuntas Municipio   76838.0000    615.289902   \n8562    PR    False  Adjuntas Municipio   46355.0000    615.289902   \n8563    PR    False  Adjuntas Municipio   48363.0000    524.345149   \n8564    PR    False  Adjuntas Municipio   96571.0000    937.793239   \n8565    PR    False  Adjuntas Municipio  202070.0000    919.382495   \n\n     adult_count child_count  \n0              1           0  \n1              1           1  \n2              1           2  \n3              1           3  \n4              1           4  \n...          ...         ...  \n8561           1           0  \n8562           1           0  \n8563           1           0  \n8564           1           0  \n8565           1           0  \n\n[39996 rows x 7 columns]",
      "text/html": "<div>\n<style scoped>\n    .dataframe tbody tr th:only-of-type {\n        vertical-align: middle;\n    }\n\n    .dataframe tbody tr th {\n        vertical-align: top;\n    }\n\n    .dataframe thead th {\n        text-align: right;\n    }\n</style>\n<table border=\"1\" class=\"dataframe\">\n  <thead>\n    <tr style=\"text-align: right;\">\n      <th></th>\n      <th>state</th>\n      <th>isMetro</th>\n      <th>county</th>\n      <th>cost</th>\n      <th>income</th>\n      <th>adult_count</th>\n      <th>child_count</th>\n    </tr>\n  </thead>\n  <tbody>\n    <tr>\n      <th>0</th>\n      <td>AL</td>\n      <td>True</td>\n      <td>Autauga County</td>\n      <td>39254.0532</td>\n      <td>73010.414062</td>\n      <td>1</td>\n      <td>0</td>\n    </tr>\n    <tr>\n      <th>1</th>\n      <td>AL</td>\n      <td>True</td>\n      <td>Autauga County</td>\n      <td>57194.3256</td>\n      <td>73010.414062</td>\n      <td>1</td>\n      <td>1</td>\n    </tr>\n    <tr>\n      <th>2</th>\n      <td>AL</td>\n      <td>True</td>\n      <td>Autauga County</td>\n      <td>76141.0308</td>\n      <td>73010.414062</td>\n      <td>1</td>\n      <td>2</td>\n    </tr>\n    <tr>\n      <th>3</th>\n      <td>AL</td>\n      <td>True</td>\n      <td>Autauga County</td>\n      <td>94203.5328</td>\n      <td>73010.414062</td>\n      <td>1</td>\n      <td>3</td>\n    </tr>\n    <tr>\n      <th>4</th>\n      <td>AL</td>\n      <td>True</td>\n      <td>Autauga County</td>\n      <td>100823.5200</td>\n      <td>73010.414062</td>\n      <td>1</td>\n      <td>4</td>\n    </tr>\n    <tr>\n      <th>...</th>\n      <td>...</td>\n      <td>...</td>\n      <td>...</td>\n      <td>...</td>\n      <td>...</td>\n      <td>...</td>\n      <td>...</td>\n    </tr>\n    <tr>\n      <th>8561</th>\n      <td>PR</td>\n      <td>False</td>\n      <td>Adjuntas Municipio</td>\n      <td>76838.0000</td>\n      <td>615.289902</td>\n      <td>1</td>\n      <td>0</td>\n    </tr>\n    <tr>\n      <th>8562</th>\n      <td>PR</td>\n      <td>False</td>\n      <td>Adjuntas Municipio</td>\n      <td>46355.0000</td>\n      <td>615.289902</td>\n      <td>1</td>\n      <td>0</td>\n    </tr>\n    <tr>\n      <th>8563</th>\n      <td>PR</td>\n      <td>False</td>\n      <td>Adjuntas Municipio</td>\n      <td>48363.0000</td>\n      <td>524.345149</td>\n      <td>1</td>\n      <td>0</td>\n    </tr>\n    <tr>\n      <th>8564</th>\n      <td>PR</td>\n      <td>False</td>\n      <td>Adjuntas Municipio</td>\n      <td>96571.0000</td>\n      <td>937.793239</td>\n      <td>1</td>\n      <td>0</td>\n    </tr>\n    <tr>\n      <th>8565</th>\n      <td>PR</td>\n      <td>False</td>\n      <td>Adjuntas Municipio</td>\n      <td>202070.0000</td>\n      <td>919.382495</td>\n      <td>1</td>\n      <td>0</td>\n    </tr>\n  </tbody>\n</table>\n<p>39996 rows × 7 columns</p>\n</div>"
     },
     "execution_count": 17,
     "metadata": {},
     "output_type": "execute_result"
    }
   ]
  },
  {
   "cell_type": "code",
   "source": [
    "le = LabelEncoder()\n",
    "\n",
    "cols_encode = ['isMetro', 'county', 'state']\n",
    "\n",
    "for col in cols_encode:\n",
    "  df[col] = le.fit_transform(df[col])\n",
    "\n",
    "df"
   ],
   "metadata": {
    "colab": {
     "base_uri": "https://localhost:8080/",
     "height": 423
    },
    "id": "uVBzJTCi11eg",
    "outputId": "abd29dfd-2489-4dda-f28d-d2d23bed3d42",
    "ExecuteTime": {
     "end_time": "2023-11-15T20:01:05.930498400Z",
     "start_time": "2023-11-15T20:01:04.135729200Z"
    }
   },
   "execution_count": 18,
   "outputs": [
    {
     "data": {
      "text/plain": "      state  isMetro  county         cost        income adult_count  \\\n0         1        1      83   39254.0532  73010.414062           1   \n1         1        1      83   57194.3256  73010.414062           1   \n2         1        1      83   76141.0308  73010.414062           1   \n3         1        1      83   94203.5328  73010.414062           1   \n4         1        1      83  100823.5200  73010.414062           1   \n...     ...      ...     ...          ...           ...         ...   \n8561     39        0       7   76838.0000    615.289902           1   \n8562     39        0       7   46355.0000    615.289902           1   \n8563     39        0       7   48363.0000    524.345149           1   \n8564     39        0       7   96571.0000    937.793239           1   \n8565     39        0       7  202070.0000    919.382495           1   \n\n     child_count  \n0              0  \n1              1  \n2              2  \n3              3  \n4              4  \n...          ...  \n8561           0  \n8562           0  \n8563           0  \n8564           0  \n8565           0  \n\n[39996 rows x 7 columns]",
      "text/html": "<div>\n<style scoped>\n    .dataframe tbody tr th:only-of-type {\n        vertical-align: middle;\n    }\n\n    .dataframe tbody tr th {\n        vertical-align: top;\n    }\n\n    .dataframe thead th {\n        text-align: right;\n    }\n</style>\n<table border=\"1\" class=\"dataframe\">\n  <thead>\n    <tr style=\"text-align: right;\">\n      <th></th>\n      <th>state</th>\n      <th>isMetro</th>\n      <th>county</th>\n      <th>cost</th>\n      <th>income</th>\n      <th>adult_count</th>\n      <th>child_count</th>\n    </tr>\n  </thead>\n  <tbody>\n    <tr>\n      <th>0</th>\n      <td>1</td>\n      <td>1</td>\n      <td>83</td>\n      <td>39254.0532</td>\n      <td>73010.414062</td>\n      <td>1</td>\n      <td>0</td>\n    </tr>\n    <tr>\n      <th>1</th>\n      <td>1</td>\n      <td>1</td>\n      <td>83</td>\n      <td>57194.3256</td>\n      <td>73010.414062</td>\n      <td>1</td>\n      <td>1</td>\n    </tr>\n    <tr>\n      <th>2</th>\n      <td>1</td>\n      <td>1</td>\n      <td>83</td>\n      <td>76141.0308</td>\n      <td>73010.414062</td>\n      <td>1</td>\n      <td>2</td>\n    </tr>\n    <tr>\n      <th>3</th>\n      <td>1</td>\n      <td>1</td>\n      <td>83</td>\n      <td>94203.5328</td>\n      <td>73010.414062</td>\n      <td>1</td>\n      <td>3</td>\n    </tr>\n    <tr>\n      <th>4</th>\n      <td>1</td>\n      <td>1</td>\n      <td>83</td>\n      <td>100823.5200</td>\n      <td>73010.414062</td>\n      <td>1</td>\n      <td>4</td>\n    </tr>\n    <tr>\n      <th>...</th>\n      <td>...</td>\n      <td>...</td>\n      <td>...</td>\n      <td>...</td>\n      <td>...</td>\n      <td>...</td>\n      <td>...</td>\n    </tr>\n    <tr>\n      <th>8561</th>\n      <td>39</td>\n      <td>0</td>\n      <td>7</td>\n      <td>76838.0000</td>\n      <td>615.289902</td>\n      <td>1</td>\n      <td>0</td>\n    </tr>\n    <tr>\n      <th>8562</th>\n      <td>39</td>\n      <td>0</td>\n      <td>7</td>\n      <td>46355.0000</td>\n      <td>615.289902</td>\n      <td>1</td>\n      <td>0</td>\n    </tr>\n    <tr>\n      <th>8563</th>\n      <td>39</td>\n      <td>0</td>\n      <td>7</td>\n      <td>48363.0000</td>\n      <td>524.345149</td>\n      <td>1</td>\n      <td>0</td>\n    </tr>\n    <tr>\n      <th>8564</th>\n      <td>39</td>\n      <td>0</td>\n      <td>7</td>\n      <td>96571.0000</td>\n      <td>937.793239</td>\n      <td>1</td>\n      <td>0</td>\n    </tr>\n    <tr>\n      <th>8565</th>\n      <td>39</td>\n      <td>0</td>\n      <td>7</td>\n      <td>202070.0000</td>\n      <td>919.382495</td>\n      <td>1</td>\n      <td>0</td>\n    </tr>\n  </tbody>\n</table>\n<p>39996 rows × 7 columns</p>\n</div>"
     },
     "execution_count": 18,
     "metadata": {},
     "output_type": "execute_result"
    }
   ]
  },
  {
   "cell_type": "code",
   "source": [
    "df['adult_count'] = df['adult_count'].astype(int)\n",
    "df['child_count'] = df['child_count'].astype(int)"
   ],
   "metadata": {
    "id": "zJqjPcsVMX8H",
    "ExecuteTime": {
     "end_time": "2023-11-15T20:01:05.931502400Z",
     "start_time": "2023-11-15T20:01:04.162564100Z"
    }
   },
   "execution_count": 19,
   "outputs": []
  },
  {
   "cell_type": "code",
   "source": [
    "cols_encode = ['county', 'state']\n",
    "\n",
    "def dectob(x):\n",
    "  y = bin(int(x))\n",
    "  if(len(y) ==2 ):\n",
    "    y = y[0]\n",
    "  else:\n",
    "    y = y[2:]\n",
    "\n",
    "  return y;\n",
    "\n",
    "for col in cols_encode:\n",
    "  df[col] = df[col].apply(dectob)\n",
    "\n",
    "df"
   ],
   "metadata": {
    "colab": {
     "base_uri": "https://localhost:8080/",
     "height": 423
    },
    "id": "wzjz_2IV4zsZ",
    "outputId": "8a41a887-be99-41b8-edcb-7ecf0013b889",
    "ExecuteTime": {
     "end_time": "2023-11-15T20:01:05.932502400Z",
     "start_time": "2023-11-15T20:01:04.176096700Z"
    }
   },
   "execution_count": 20,
   "outputs": [
    {
     "data": {
      "text/plain": "       state  isMetro   county         cost        income  adult_count  \\\n0          1        1  1010011   39254.0532  73010.414062            1   \n1          1        1  1010011   57194.3256  73010.414062            1   \n2          1        1  1010011   76141.0308  73010.414062            1   \n3          1        1  1010011   94203.5328  73010.414062            1   \n4          1        1  1010011  100823.5200  73010.414062            1   \n...      ...      ...      ...          ...           ...          ...   \n8561  100111        0      111   76838.0000    615.289902            1   \n8562  100111        0      111   46355.0000    615.289902            1   \n8563  100111        0      111   48363.0000    524.345149            1   \n8564  100111        0      111   96571.0000    937.793239            1   \n8565  100111        0      111  202070.0000    919.382495            1   \n\n      child_count  \n0               0  \n1               1  \n2               2  \n3               3  \n4               4  \n...           ...  \n8561            0  \n8562            0  \n8563            0  \n8564            0  \n8565            0  \n\n[39996 rows x 7 columns]",
      "text/html": "<div>\n<style scoped>\n    .dataframe tbody tr th:only-of-type {\n        vertical-align: middle;\n    }\n\n    .dataframe tbody tr th {\n        vertical-align: top;\n    }\n\n    .dataframe thead th {\n        text-align: right;\n    }\n</style>\n<table border=\"1\" class=\"dataframe\">\n  <thead>\n    <tr style=\"text-align: right;\">\n      <th></th>\n      <th>state</th>\n      <th>isMetro</th>\n      <th>county</th>\n      <th>cost</th>\n      <th>income</th>\n      <th>adult_count</th>\n      <th>child_count</th>\n    </tr>\n  </thead>\n  <tbody>\n    <tr>\n      <th>0</th>\n      <td>1</td>\n      <td>1</td>\n      <td>1010011</td>\n      <td>39254.0532</td>\n      <td>73010.414062</td>\n      <td>1</td>\n      <td>0</td>\n    </tr>\n    <tr>\n      <th>1</th>\n      <td>1</td>\n      <td>1</td>\n      <td>1010011</td>\n      <td>57194.3256</td>\n      <td>73010.414062</td>\n      <td>1</td>\n      <td>1</td>\n    </tr>\n    <tr>\n      <th>2</th>\n      <td>1</td>\n      <td>1</td>\n      <td>1010011</td>\n      <td>76141.0308</td>\n      <td>73010.414062</td>\n      <td>1</td>\n      <td>2</td>\n    </tr>\n    <tr>\n      <th>3</th>\n      <td>1</td>\n      <td>1</td>\n      <td>1010011</td>\n      <td>94203.5328</td>\n      <td>73010.414062</td>\n      <td>1</td>\n      <td>3</td>\n    </tr>\n    <tr>\n      <th>4</th>\n      <td>1</td>\n      <td>1</td>\n      <td>1010011</td>\n      <td>100823.5200</td>\n      <td>73010.414062</td>\n      <td>1</td>\n      <td>4</td>\n    </tr>\n    <tr>\n      <th>...</th>\n      <td>...</td>\n      <td>...</td>\n      <td>...</td>\n      <td>...</td>\n      <td>...</td>\n      <td>...</td>\n      <td>...</td>\n    </tr>\n    <tr>\n      <th>8561</th>\n      <td>100111</td>\n      <td>0</td>\n      <td>111</td>\n      <td>76838.0000</td>\n      <td>615.289902</td>\n      <td>1</td>\n      <td>0</td>\n    </tr>\n    <tr>\n      <th>8562</th>\n      <td>100111</td>\n      <td>0</td>\n      <td>111</td>\n      <td>46355.0000</td>\n      <td>615.289902</td>\n      <td>1</td>\n      <td>0</td>\n    </tr>\n    <tr>\n      <th>8563</th>\n      <td>100111</td>\n      <td>0</td>\n      <td>111</td>\n      <td>48363.0000</td>\n      <td>524.345149</td>\n      <td>1</td>\n      <td>0</td>\n    </tr>\n    <tr>\n      <th>8564</th>\n      <td>100111</td>\n      <td>0</td>\n      <td>111</td>\n      <td>96571.0000</td>\n      <td>937.793239</td>\n      <td>1</td>\n      <td>0</td>\n    </tr>\n    <tr>\n      <th>8565</th>\n      <td>100111</td>\n      <td>0</td>\n      <td>111</td>\n      <td>202070.0000</td>\n      <td>919.382495</td>\n      <td>1</td>\n      <td>0</td>\n    </tr>\n  </tbody>\n</table>\n<p>39996 rows × 7 columns</p>\n</div>"
     },
     "execution_count": 20,
     "metadata": {},
     "output_type": "execute_result"
    }
   ]
  },
  {
   "cell_type": "code",
   "source": [
    "# show number of NaN values per column\n",
    "df.isnull().sum()"
   ],
   "metadata": {
    "colab": {
     "base_uri": "https://localhost:8080/"
    },
    "id": "aNhcAq0u2_t4",
    "outputId": "7adcd5cd-3c79-446d-9678-b1904904629e",
    "ExecuteTime": {
     "end_time": "2023-11-15T20:01:05.933503200Z",
     "start_time": "2023-11-15T20:01:04.219434900Z"
    }
   },
   "execution_count": 21,
   "outputs": [
    {
     "data": {
      "text/plain": "state           0\nisMetro         0\ncounty          0\ncost            0\nincome         10\nadult_count     0\nchild_count     0\ndtype: int64"
     },
     "execution_count": 21,
     "metadata": {},
     "output_type": "execute_result"
    }
   ]
  },
  {
   "cell_type": "code",
   "source": [
    "df['income'] = df['income'].interpolate(method='linear')\n",
    "df.isnull().sum()"
   ],
   "metadata": {
    "colab": {
     "base_uri": "https://localhost:8080/"
    },
    "id": "8OIVJvwK3Cjh",
    "outputId": "a2537d8f-eb36-465f-bba0-d1d1e9abcee2",
    "ExecuteTime": {
     "end_time": "2023-11-15T20:01:05.933503200Z",
     "start_time": "2023-11-15T20:01:04.238981900Z"
    }
   },
   "execution_count": 22,
   "outputs": [
    {
     "data": {
      "text/plain": "state          0\nisMetro        0\ncounty         0\ncost           0\nincome         0\nadult_count    0\nchild_count    0\ndtype: int64"
     },
     "execution_count": 22,
     "metadata": {},
     "output_type": "execute_result"
    }
   ]
  },
  {
   "cell_type": "code",
   "source": [
    "df['cost'] = round(df['cost'])\n",
    "df['income'] = round(df['income'])\n",
    "df['cost'] = df['cost'].astype(int)\n",
    "df['income'] = df['income'].astype(int)\n",
    "df"
   ],
   "metadata": {
    "colab": {
     "base_uri": "https://localhost:8080/",
     "height": 423
    },
    "id": "CWHJrx87RoKQ",
    "outputId": "7a1b53b3-3fc2-4480-d97b-0ac99859d0e8",
    "ExecuteTime": {
     "end_time": "2023-11-15T20:01:05.935502900Z",
     "start_time": "2023-11-15T20:01:04.265393600Z"
    }
   },
   "execution_count": 23,
   "outputs": [
    {
     "data": {
      "text/plain": "       state  isMetro   county    cost  income  adult_count  child_count\n0          1        1  1010011   39254   73010            1            0\n1          1        1  1010011   57194   73010            1            1\n2          1        1  1010011   76141   73010            1            2\n3          1        1  1010011   94204   73010            1            3\n4          1        1  1010011  100824   73010            1            4\n...      ...      ...      ...     ...     ...          ...          ...\n8561  100111        0      111   76838     615            1            0\n8562  100111        0      111   46355     615            1            0\n8563  100111        0      111   48363     524            1            0\n8564  100111        0      111   96571     938            1            0\n8565  100111        0      111  202070     919            1            0\n\n[39996 rows x 7 columns]",
      "text/html": "<div>\n<style scoped>\n    .dataframe tbody tr th:only-of-type {\n        vertical-align: middle;\n    }\n\n    .dataframe tbody tr th {\n        vertical-align: top;\n    }\n\n    .dataframe thead th {\n        text-align: right;\n    }\n</style>\n<table border=\"1\" class=\"dataframe\">\n  <thead>\n    <tr style=\"text-align: right;\">\n      <th></th>\n      <th>state</th>\n      <th>isMetro</th>\n      <th>county</th>\n      <th>cost</th>\n      <th>income</th>\n      <th>adult_count</th>\n      <th>child_count</th>\n    </tr>\n  </thead>\n  <tbody>\n    <tr>\n      <th>0</th>\n      <td>1</td>\n      <td>1</td>\n      <td>1010011</td>\n      <td>39254</td>\n      <td>73010</td>\n      <td>1</td>\n      <td>0</td>\n    </tr>\n    <tr>\n      <th>1</th>\n      <td>1</td>\n      <td>1</td>\n      <td>1010011</td>\n      <td>57194</td>\n      <td>73010</td>\n      <td>1</td>\n      <td>1</td>\n    </tr>\n    <tr>\n      <th>2</th>\n      <td>1</td>\n      <td>1</td>\n      <td>1010011</td>\n      <td>76141</td>\n      <td>73010</td>\n      <td>1</td>\n      <td>2</td>\n    </tr>\n    <tr>\n      <th>3</th>\n      <td>1</td>\n      <td>1</td>\n      <td>1010011</td>\n      <td>94204</td>\n      <td>73010</td>\n      <td>1</td>\n      <td>3</td>\n    </tr>\n    <tr>\n      <th>4</th>\n      <td>1</td>\n      <td>1</td>\n      <td>1010011</td>\n      <td>100824</td>\n      <td>73010</td>\n      <td>1</td>\n      <td>4</td>\n    </tr>\n    <tr>\n      <th>...</th>\n      <td>...</td>\n      <td>...</td>\n      <td>...</td>\n      <td>...</td>\n      <td>...</td>\n      <td>...</td>\n      <td>...</td>\n    </tr>\n    <tr>\n      <th>8561</th>\n      <td>100111</td>\n      <td>0</td>\n      <td>111</td>\n      <td>76838</td>\n      <td>615</td>\n      <td>1</td>\n      <td>0</td>\n    </tr>\n    <tr>\n      <th>8562</th>\n      <td>100111</td>\n      <td>0</td>\n      <td>111</td>\n      <td>46355</td>\n      <td>615</td>\n      <td>1</td>\n      <td>0</td>\n    </tr>\n    <tr>\n      <th>8563</th>\n      <td>100111</td>\n      <td>0</td>\n      <td>111</td>\n      <td>48363</td>\n      <td>524</td>\n      <td>1</td>\n      <td>0</td>\n    </tr>\n    <tr>\n      <th>8564</th>\n      <td>100111</td>\n      <td>0</td>\n      <td>111</td>\n      <td>96571</td>\n      <td>938</td>\n      <td>1</td>\n      <td>0</td>\n    </tr>\n    <tr>\n      <th>8565</th>\n      <td>100111</td>\n      <td>0</td>\n      <td>111</td>\n      <td>202070</td>\n      <td>919</td>\n      <td>1</td>\n      <td>0</td>\n    </tr>\n  </tbody>\n</table>\n<p>39996 rows × 7 columns</p>\n</div>"
     },
     "execution_count": 23,
     "metadata": {},
     "output_type": "execute_result"
    }
   ]
  },
  {
   "cell_type": "code",
   "source": [
    "df['state'] = df['state'].astype(np.int64)\n",
    "df['county'] = df['county'].astype(np.int64)\n",
    "df['adult_count'] = df['adult_count'].astype(np.int64)\n",
    "df['child_count'] = df['child_count'].astype(np.int64)\n",
    "df.dtypes"
   ],
   "metadata": {
    "colab": {
     "base_uri": "https://localhost:8080/"
    },
    "id": "LxK-M5SQ3mgt",
    "outputId": "b722ac0b-80d5-4b3d-8a89-9ffd34aef167",
    "ExecuteTime": {
     "end_time": "2023-11-15T20:03:02.559082400Z",
     "start_time": "2023-11-15T20:03:02.464088600Z"
    }
   },
   "execution_count": 28,
   "outputs": [
    {
     "data": {
      "text/plain": "state          int64\nisMetro        int64\ncounty         int64\ncost           int32\nincome         int32\nadult_count    int64\nchild_count    int64\ndtype: object"
     },
     "execution_count": 28,
     "metadata": {},
     "output_type": "execute_result"
    }
   ]
  },
  {
   "cell_type": "code",
   "source": [
    "y_cols = ['state', 'county']\n",
    "\n",
    "df_y = df[y_cols]\n",
    "df_y"
   ],
   "metadata": {
    "colab": {
     "base_uri": "https://localhost:8080/",
     "height": 423
    },
    "id": "QLvGFxf87PYz",
    "outputId": "69282644-b1a4-463f-9662-41636c57a603",
    "ExecuteTime": {
     "end_time": "2023-11-15T20:03:06.890551300Z",
     "start_time": "2023-11-15T20:03:06.871511500Z"
    }
   },
   "execution_count": 29,
   "outputs": [
    {
     "data": {
      "text/plain": "       state   county\n0          1  1010011\n1          1  1010011\n2          1  1010011\n3          1  1010011\n4          1  1010011\n...      ...      ...\n8561  100111      111\n8562  100111      111\n8563  100111      111\n8564  100111      111\n8565  100111      111\n\n[39996 rows x 2 columns]",
      "text/html": "<div>\n<style scoped>\n    .dataframe tbody tr th:only-of-type {\n        vertical-align: middle;\n    }\n\n    .dataframe tbody tr th {\n        vertical-align: top;\n    }\n\n    .dataframe thead th {\n        text-align: right;\n    }\n</style>\n<table border=\"1\" class=\"dataframe\">\n  <thead>\n    <tr style=\"text-align: right;\">\n      <th></th>\n      <th>state</th>\n      <th>county</th>\n    </tr>\n  </thead>\n  <tbody>\n    <tr>\n      <th>0</th>\n      <td>1</td>\n      <td>1010011</td>\n    </tr>\n    <tr>\n      <th>1</th>\n      <td>1</td>\n      <td>1010011</td>\n    </tr>\n    <tr>\n      <th>2</th>\n      <td>1</td>\n      <td>1010011</td>\n    </tr>\n    <tr>\n      <th>3</th>\n      <td>1</td>\n      <td>1010011</td>\n    </tr>\n    <tr>\n      <th>4</th>\n      <td>1</td>\n      <td>1010011</td>\n    </tr>\n    <tr>\n      <th>...</th>\n      <td>...</td>\n      <td>...</td>\n    </tr>\n    <tr>\n      <th>8561</th>\n      <td>100111</td>\n      <td>111</td>\n    </tr>\n    <tr>\n      <th>8562</th>\n      <td>100111</td>\n      <td>111</td>\n    </tr>\n    <tr>\n      <th>8563</th>\n      <td>100111</td>\n      <td>111</td>\n    </tr>\n    <tr>\n      <th>8564</th>\n      <td>100111</td>\n      <td>111</td>\n    </tr>\n    <tr>\n      <th>8565</th>\n      <td>100111</td>\n      <td>111</td>\n    </tr>\n  </tbody>\n</table>\n<p>39996 rows × 2 columns</p>\n</div>"
     },
     "execution_count": 29,
     "metadata": {},
     "output_type": "execute_result"
    }
   ]
  },
  {
   "cell_type": "code",
   "source": [
    "df_x = df.drop(y_cols, axis=1)\n",
    "df_x"
   ],
   "metadata": {
    "colab": {
     "base_uri": "https://localhost:8080/",
     "height": 423
    },
    "id": "qeyikzHj8KKn",
    "outputId": "8176d576-d6e3-457e-f480-8f93347a13ae",
    "ExecuteTime": {
     "end_time": "2023-11-15T20:03:08.046427600Z",
     "start_time": "2023-11-15T20:03:08.033643300Z"
    }
   },
   "execution_count": 30,
   "outputs": [
    {
     "data": {
      "text/plain": "      isMetro    cost  income  adult_count  child_count\n0           1   39254   73010            1            0\n1           1   57194   73010            1            1\n2           1   76141   73010            1            2\n3           1   94204   73010            1            3\n4           1  100824   73010            1            4\n...       ...     ...     ...          ...          ...\n8561        0   76838     615            1            0\n8562        0   46355     615            1            0\n8563        0   48363     524            1            0\n8564        0   96571     938            1            0\n8565        0  202070     919            1            0\n\n[39996 rows x 5 columns]",
      "text/html": "<div>\n<style scoped>\n    .dataframe tbody tr th:only-of-type {\n        vertical-align: middle;\n    }\n\n    .dataframe tbody tr th {\n        vertical-align: top;\n    }\n\n    .dataframe thead th {\n        text-align: right;\n    }\n</style>\n<table border=\"1\" class=\"dataframe\">\n  <thead>\n    <tr style=\"text-align: right;\">\n      <th></th>\n      <th>isMetro</th>\n      <th>cost</th>\n      <th>income</th>\n      <th>adult_count</th>\n      <th>child_count</th>\n    </tr>\n  </thead>\n  <tbody>\n    <tr>\n      <th>0</th>\n      <td>1</td>\n      <td>39254</td>\n      <td>73010</td>\n      <td>1</td>\n      <td>0</td>\n    </tr>\n    <tr>\n      <th>1</th>\n      <td>1</td>\n      <td>57194</td>\n      <td>73010</td>\n      <td>1</td>\n      <td>1</td>\n    </tr>\n    <tr>\n      <th>2</th>\n      <td>1</td>\n      <td>76141</td>\n      <td>73010</td>\n      <td>1</td>\n      <td>2</td>\n    </tr>\n    <tr>\n      <th>3</th>\n      <td>1</td>\n      <td>94204</td>\n      <td>73010</td>\n      <td>1</td>\n      <td>3</td>\n    </tr>\n    <tr>\n      <th>4</th>\n      <td>1</td>\n      <td>100824</td>\n      <td>73010</td>\n      <td>1</td>\n      <td>4</td>\n    </tr>\n    <tr>\n      <th>...</th>\n      <td>...</td>\n      <td>...</td>\n      <td>...</td>\n      <td>...</td>\n      <td>...</td>\n    </tr>\n    <tr>\n      <th>8561</th>\n      <td>0</td>\n      <td>76838</td>\n      <td>615</td>\n      <td>1</td>\n      <td>0</td>\n    </tr>\n    <tr>\n      <th>8562</th>\n      <td>0</td>\n      <td>46355</td>\n      <td>615</td>\n      <td>1</td>\n      <td>0</td>\n    </tr>\n    <tr>\n      <th>8563</th>\n      <td>0</td>\n      <td>48363</td>\n      <td>524</td>\n      <td>1</td>\n      <td>0</td>\n    </tr>\n    <tr>\n      <th>8564</th>\n      <td>0</td>\n      <td>96571</td>\n      <td>938</td>\n      <td>1</td>\n      <td>0</td>\n    </tr>\n    <tr>\n      <th>8565</th>\n      <td>0</td>\n      <td>202070</td>\n      <td>919</td>\n      <td>1</td>\n      <td>0</td>\n    </tr>\n  </tbody>\n</table>\n<p>39996 rows × 5 columns</p>\n</div>"
     },
     "execution_count": 30,
     "metadata": {},
     "output_type": "execute_result"
    }
   ]
  },
  {
   "cell_type": "code",
   "source": [
    "x_train, x_test, y_train, y_test = train_test_split(df_x, df_y, test_size=0.33, random_state=42)\n",
    "x_train"
   ],
   "metadata": {
    "colab": {
     "base_uri": "https://localhost:8080/",
     "height": 423
    },
    "id": "2yr8SKTi2X9M",
    "outputId": "bbb3290e-3e12-4233-b5fd-3797324bccd1",
    "ExecuteTime": {
     "end_time": "2023-11-15T20:03:08.962637400Z",
     "start_time": "2023-11-15T20:03:08.941175800Z"
    }
   },
   "execution_count": 31,
   "outputs": [
    {
     "data": {
      "text/plain": "       isMetro     cost  income  adult_count  child_count\n29484        1    90490   73092            1            4\n27140        1    36030   86616            1            0\n21227        0    74269   66738            2            2\n1121         0    45461   57424            1            1\n3459         1    99606   58704            2            4\n...        ...      ...     ...          ...          ...\n6265         1    54645   90141            2            0\n11284        1    75396   57834            1            4\n6728         1  1020096     326            1            0\n860          0    43105   60250            1            0\n15795        1    48822   90981            2            0\n\n[26797 rows x 5 columns]",
      "text/html": "<div>\n<style scoped>\n    .dataframe tbody tr th:only-of-type {\n        vertical-align: middle;\n    }\n\n    .dataframe tbody tr th {\n        vertical-align: top;\n    }\n\n    .dataframe thead th {\n        text-align: right;\n    }\n</style>\n<table border=\"1\" class=\"dataframe\">\n  <thead>\n    <tr style=\"text-align: right;\">\n      <th></th>\n      <th>isMetro</th>\n      <th>cost</th>\n      <th>income</th>\n      <th>adult_count</th>\n      <th>child_count</th>\n    </tr>\n  </thead>\n  <tbody>\n    <tr>\n      <th>29484</th>\n      <td>1</td>\n      <td>90490</td>\n      <td>73092</td>\n      <td>1</td>\n      <td>4</td>\n    </tr>\n    <tr>\n      <th>27140</th>\n      <td>1</td>\n      <td>36030</td>\n      <td>86616</td>\n      <td>1</td>\n      <td>0</td>\n    </tr>\n    <tr>\n      <th>21227</th>\n      <td>0</td>\n      <td>74269</td>\n      <td>66738</td>\n      <td>2</td>\n      <td>2</td>\n    </tr>\n    <tr>\n      <th>1121</th>\n      <td>0</td>\n      <td>45461</td>\n      <td>57424</td>\n      <td>1</td>\n      <td>1</td>\n    </tr>\n    <tr>\n      <th>3459</th>\n      <td>1</td>\n      <td>99606</td>\n      <td>58704</td>\n      <td>2</td>\n      <td>4</td>\n    </tr>\n    <tr>\n      <th>...</th>\n      <td>...</td>\n      <td>...</td>\n      <td>...</td>\n      <td>...</td>\n      <td>...</td>\n    </tr>\n    <tr>\n      <th>6265</th>\n      <td>1</td>\n      <td>54645</td>\n      <td>90141</td>\n      <td>2</td>\n      <td>0</td>\n    </tr>\n    <tr>\n      <th>11284</th>\n      <td>1</td>\n      <td>75396</td>\n      <td>57834</td>\n      <td>1</td>\n      <td>4</td>\n    </tr>\n    <tr>\n      <th>6728</th>\n      <td>1</td>\n      <td>1020096</td>\n      <td>326</td>\n      <td>1</td>\n      <td>0</td>\n    </tr>\n    <tr>\n      <th>860</th>\n      <td>0</td>\n      <td>43105</td>\n      <td>60250</td>\n      <td>1</td>\n      <td>0</td>\n    </tr>\n    <tr>\n      <th>15795</th>\n      <td>1</td>\n      <td>48822</td>\n      <td>90981</td>\n      <td>2</td>\n      <td>0</td>\n    </tr>\n  </tbody>\n</table>\n<p>26797 rows × 5 columns</p>\n</div>"
     },
     "execution_count": 31,
     "metadata": {},
     "output_type": "execute_result"
    }
   ]
  },
  {
   "cell_type": "code",
   "source": [
    "y_train_state = y_train['state']\n",
    "y_train_county = y_train['county']\n",
    "\n",
    "y_test_state = y_test['state']\n",
    "y_test_county = y_test['county']"
   ],
   "metadata": {
    "id": "AAfNqfqu5FkZ",
    "ExecuteTime": {
     "end_time": "2023-11-15T20:03:09.844131400Z",
     "start_time": "2023-11-15T20:03:09.822830600Z"
    }
   },
   "execution_count": 32,
   "outputs": []
  },
  {
   "cell_type": "markdown",
   "source": [
    "DT and Ramdom Forest"
   ],
   "metadata": {
    "id": "YW9qi5WRzcMk"
   }
  },
  {
   "cell_type": "code",
   "source": [
    "from sklearn.tree import DecisionTreeClassifier\n",
    "from sklearn.metrics import accuracy_score\n",
    "\n",
    "\n",
    "ig_clf = DecisionTreeClassifier(criterion='entropy')\n",
    "ig_clf.fit(x_train, y_train_state)\n",
    "\n",
    "\n",
    "ig_y_pred_state = ig_clf.predict(x_test)\n",
    "ig_acc = accuracy_score(y_test_state, ig_y_pred_state)\n",
    "ig_acc"
   ],
   "metadata": {
    "colab": {
     "base_uri": "https://localhost:8080/"
    },
    "id": "VpgKp0675fFA",
    "outputId": "edbaf46c-41f6-4f86-bcc3-351568164ce7",
    "ExecuteTime": {
     "end_time": "2023-11-15T20:03:12.020728200Z",
     "start_time": "2023-11-15T20:03:11.520216600Z"
    }
   },
   "execution_count": 33,
   "outputs": [
    {
     "data": {
      "text/plain": "0.7671035684521554"
     },
     "execution_count": 33,
     "metadata": {},
     "output_type": "execute_result"
    }
   ]
  },
  {
   "cell_type": "code",
   "source": [
    "# run a decision tree classifier with gini params\n",
    "from sklearn.tree import DecisionTreeClassifier\n",
    "from sklearn.metrics import accuracy_score\n",
    "\n",
    "\n",
    "gini_clf = DecisionTreeClassifier(criterion='gini')\n",
    "gini_clf.fit(x_train, y_train_state)\n",
    "\n",
    "\n",
    "gini_y_pred_state = gini_clf.predict(x_test)\n",
    "gini_acc = accuracy_score(y_test_state, gini_y_pred_state)\n",
    "ig_acc"
   ],
   "metadata": {
    "colab": {
     "base_uri": "https://localhost:8080/"
    },
    "id": "X1RYKyts53XZ",
    "outputId": "f91673dc-c4a4-4af4-f6c3-a4f0efa23994",
    "ExecuteTime": {
     "end_time": "2023-11-15T20:03:13.178729200Z",
     "start_time": "2023-11-15T20:03:12.895212200Z"
    }
   },
   "execution_count": 34,
   "outputs": [
    {
     "data": {
      "text/plain": "0.7671035684521554"
     },
     "execution_count": 34,
     "metadata": {},
     "output_type": "execute_result"
    }
   ]
  },
  {
   "cell_type": "code",
   "source": [
    "# run a decision tree classifier with ig params\n",
    "from sklearn.tree import DecisionTreeClassifier\n",
    "from sklearn.metrics import accuracy_score\n",
    "\n",
    "\n",
    "ig_clf = DecisionTreeClassifier(criterion='entropy')\n",
    "ig_clf.fit(x_train, y_train_county)\n",
    "\n",
    "\n",
    "ig_y_pred_county = ig_clf.predict(x_test)\n",
    "ig_acc = accuracy_score(y_test_county, ig_y_pred_county)\n",
    "ig_acc"
   ],
   "metadata": {
    "colab": {
     "base_uri": "https://localhost:8080/"
    },
    "id": "7Lsfnx3m5k9K",
    "outputId": "710274c9-f174-4777-ef93-50dce0989f8f",
    "ExecuteTime": {
     "end_time": "2023-11-15T20:03:20.817257900Z",
     "start_time": "2023-11-15T20:03:13.987739600Z"
    }
   },
   "execution_count": 35,
   "outputs": [
    {
     "data": {
      "text/plain": "0.8114251079627245"
     },
     "execution_count": 35,
     "metadata": {},
     "output_type": "execute_result"
    }
   ]
  },
  {
   "cell_type": "code",
   "source": [
    "# run a decision tree classifier with ig params\n",
    "from sklearn.tree import DecisionTreeClassifier\n",
    "from sklearn.metrics import accuracy_score\n",
    "\n",
    "\n",
    "gini_clf = DecisionTreeClassifier(criterion='gini')\n",
    "gini_clf.fit(x_train, y_train_county)\n",
    "\n",
    "\n",
    "gini_y_pred_county = gini_clf.predict(x_test)\n",
    "gini_acc = accuracy_score(y_test_county, gini_y_pred_county)\n",
    "gini_acc"
   ],
   "metadata": {
    "colab": {
     "base_uri": "https://localhost:8080/"
    },
    "id": "Y-IwnK-U5453",
    "outputId": "55b0d076-86e4-47b7-e179-90d6b1612136",
    "ExecuteTime": {
     "end_time": "2023-11-15T20:03:24.454487300Z",
     "start_time": "2023-11-15T20:03:20.820259400Z"
    }
   },
   "execution_count": 36,
   "outputs": [
    {
     "data": {
      "text/plain": "0.8108947647549056"
     },
     "execution_count": 36,
     "metadata": {},
     "output_type": "execute_result"
    }
   ]
  },
  {
   "cell_type": "markdown",
   "source": [
    "Random forest"
   ],
   "metadata": {
    "id": "QEiCRCD9ViFp"
   }
  },
  {
   "cell_type": "code",
   "source": [
    "ig_rand_forest_clf_state = RandomForestClassifier(n_estimators=50, criterion='entropy')\n",
    "ig_rand_forest_clf_state.fit(x_train, y_train_state)\n",
    "\n",
    "ig_rand_forest_y_pred_state = ig_rand_forest_clf_state.predict(x_test)\n",
    "ig_rand_forest_acc_state = accuracy_score(y_test_state, ig_rand_forest_y_pred_state)\n",
    "print(\"Random forest Accuracy \", ig_rand_forest_acc_state)"
   ],
   "metadata": {
    "colab": {
     "base_uri": "https://localhost:8080/"
    },
    "id": "TDcB0VwLVj0R",
    "outputId": "cd84c9e3-afe7-4e57-d0c9-dd13a56de5be",
    "ExecuteTime": {
     "end_time": "2023-11-15T20:03:37.132981700Z",
     "start_time": "2023-11-15T20:03:24.448486200Z"
    }
   },
   "execution_count": 37,
   "outputs": [
    {
     "name": "stdout",
     "output_type": "stream",
     "text": [
      "Random forest Accuracy  0.1722857792256989\n"
     ]
    }
   ]
  },
  {
   "cell_type": "code",
   "source": [
    "gini_rand_forest_clf_state = RandomForestClassifier(n_estimators=50, criterion='gini')\n",
    "gini_rand_forest_clf_state.fit(x_train, y_train_state)\n",
    "\n",
    "gini_rand_forest_y_pred_state = gini_rand_forest_clf_state.predict(x_test)\n",
    "gini_rand_forest_acc_state = accuracy_score(y_test_state, gini_rand_forest_y_pred_state)\n",
    "print(\"Random forest Accuracy \", gini_rand_forest_acc_state)"
   ],
   "metadata": {
    "colab": {
     "base_uri": "https://localhost:8080/"
    },
    "id": "_ZwiVZF7fSQG",
    "outputId": "005f6695-7a2d-408d-ea04-0f0cf23c8540",
    "ExecuteTime": {
     "end_time": "2023-11-15T20:03:44.578572800Z",
     "start_time": "2023-11-15T20:03:37.134980400Z"
    }
   },
   "execution_count": 38,
   "outputs": [
    {
     "name": "stdout",
     "output_type": "stream",
     "text": [
      "Random forest Accuracy  0.17130085612546406\n"
     ]
    }
   ]
  },
  {
   "cell_type": "code",
   "source": [
    "ig_rand_forest_clf_county = RandomForestClassifier(n_estimators=10, criterion='entropy')\n",
    "ig_rand_forest_clf_county.fit(x_train, y_train_county)\n",
    "\n",
    "ig_rand_forest_y_pred_county = ig_rand_forest_clf_county.predict(x_test)\n",
    "ig_rand_forest_acc_county = accuracy_score(y_test_county, ig_rand_forest_y_pred_county)\n",
    "print(\"Random forest Accuracy \", ig_rand_forest_acc_county)"
   ],
   "metadata": {
    "colab": {
     "base_uri": "https://localhost:8080/"
    },
    "id": "Q8YuOEHKfyX2",
    "outputId": "0bb2a6a5-81d3-41fa-c1a2-b85ee3daa94d",
    "ExecuteTime": {
     "end_time": "2023-11-15T20:04:15.632173200Z",
     "start_time": "2023-11-15T20:03:44.580572400Z"
    }
   },
   "execution_count": 39,
   "outputs": [
    {
     "name": "stdout",
     "output_type": "stream",
     "text": [
      "Random forest Accuracy  0.07333888930979619\n"
     ]
    }
   ]
  },
  {
   "cell_type": "code",
   "execution_count": 40,
   "outputs": [
    {
     "name": "stdout",
     "output_type": "stream",
     "text": [
      "Random forest Accuracy  0.07182362300174255\n"
     ]
    }
   ],
   "source": [
    "gini_rand_forest_clf_county = RandomForestClassifier(n_estimators=10, criterion='gini')\n",
    "gini_rand_forest_clf_county.fit(x_train, y_train_county)\n",
    "\n",
    "gini_rand_forest_y_pred_county = gini_rand_forest_clf_county.predict(x_test)\n",
    "gini_rand_forest_acc_county = accuracy_score(y_test_county, gini_rand_forest_y_pred_county)\n",
    "print(\"Random forest Accuracy \", gini_rand_forest_acc_county)"
   ],
   "metadata": {
    "collapsed": false,
    "ExecuteTime": {
     "end_time": "2023-11-15T20:05:56.243915700Z",
     "start_time": "2023-11-15T20:05:32.391887400Z"
    }
   }
  },
  {
   "cell_type": "code",
   "source": [
    "import seaborn as sns\n",
    "import matplotlib.pyplot as plt\n",
    "\n",
    "sns.countplot(x='county',data=df)\n",
    "plt.show()"
   ],
   "metadata": {
    "colab": {
     "base_uri": "https://localhost:8080/",
     "height": 449
    },
    "id": "suDBeG-yX2_n",
    "outputId": "4cf7217a-63bd-4469-f75e-9c26e5e07ae2",
    "ExecuteTime": {
     "start_time": "2023-11-15T20:01:07.755633600Z"
    }
   },
   "execution_count": null,
   "outputs": []
  }
 ]
}
